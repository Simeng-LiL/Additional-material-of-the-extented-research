{
  "cells": [
    {
      "cell_type": "code",
      "execution_count": 40,
      "metadata": {
        "colab": {
          "base_uri": "https://localhost:8080/"
        },
        "id": "ow2oM_NYc8bo",
        "outputId": "3934b0b4-18e4-46b2-b1b2-a49baaf94c4d"
      },
      "outputs": [
        {
          "name": "stdout",
          "output_type": "stream",
          "text": [
            "Drive already mounted at /content/drive; to attempt to forcibly remount, call drive.mount(\"/content/drive\", force_remount=True).\n"
          ]
        }
      ],
      "source": [
        "from google.colab import drive\n",
        "drive.mount('/content/drive')"
      ]
    },
    {
      "cell_type": "code",
      "execution_count": 41,
      "metadata": {
        "id": "EfzTUgyngvbi"
      },
      "outputs": [],
      "source": [
        "import os\n",
        "import time\n",
        "import torch\n",
        "import torchvision\n",
        "import torchvision.transforms as transforms\n",
        "from torch.utils.data import DataLoader, random_split\n",
        "from torchvision.datasets import ImageFolder\n",
        "from torchvision.models import resnet50\n",
        "import torch.nn as nn\n",
        "import torch.optim as optim\n",
        "\n"
      ]
    },
    {
      "cell_type": "code",
      "execution_count": 42,
      "metadata": {
        "id": "AbcCM4LKkQBb"
      },
      "outputs": [],
      "source": [
        "\n",
        "# 1. Data Loading\n",
        "def load_data(data_dir, batch_size, num_workers):\n",
        "    transform = transforms.Compose([\n",
        "        transforms.Resize((224, 224)),  # Resizing the image\n",
        "        transforms.ToTensor(),  # Convert to tensor\n",
        "        transforms.Normalize(mean=[0.485, 0.456, 0.406], std=[0.229, 0.224, 0.225])  # Normalization\n",
        "    ])\n",
        "\n",
        "    dataset = ImageFolder(data_dir, transform=transform)\n",
        "    train_size = int(0.8 * len(dataset))\n",
        "    test_size = len(dataset) - train_size\n",
        "    train_dataset, test_dataset = random_split(dataset, [train_size, test_size])\n",
        "\n",
        "    train_loader = DataLoader(train_dataset, batch_size=batch_size, shuffle=True, num_workers=num_workers)\n",
        "    test_loader = DataLoader(test_dataset, batch_size=batch_size, shuffle=False, num_workers=num_workers)\n",
        "\n",
        "    return train_loader, test_loader"
      ]
    },
    {
      "cell_type": "code",
      "execution_count": 43,
      "metadata": {
        "id": "TEeVl7YakOQS"
      },
      "outputs": [],
      "source": [
        "# 2. Model Definition\n",
        "def build_model(num_classes):\n",
        "    model = resnet50(pretrained=True)\n",
        "    model.fc = nn.Linear(model.fc.in_features, num_classes)\n",
        "    return model\n"
      ]
    },
    {
      "cell_type": "code",
      "execution_count": 44,
      "metadata": {
        "id": "D6hA1NRbmb5p"
      },
      "outputs": [],
      "source": [
        "# 3. Model Training\n",
        "def train_model(model, train_loader, criterion, optimizer, device, epochs):\n",
        "    model.train()\n",
        "    model.to(device)\n",
        "\n",
        "    for epoch in range(epochs):\n",
        "        running_loss = 0.0\n",
        "        start_time = time.time()  # Start timing\n",
        "        step = 0  # Initialize step counter\n",
        "\n",
        "        for images, labels in train_loader:\n",
        "            images, labels = images.to(device), labels.to(device)\n",
        "            optimizer.zero_grad()\n",
        "            outputs = model(images)\n",
        "            loss = criterion(outputs, labels)\n",
        "            loss.backward()\n",
        "            optimizer.step()\n",
        "\n",
        "            running_loss += loss.item()\n",
        "            step += 1  # Increment step counter\n",
        "\n",
        "            # Print every 20 steps\n",
        "            if step % 20 == 0:\n",
        "                print(f'Epoch {epoch+1}, Step {step}, Intermediate Loss: {loss.item()}')\n",
        "\n",
        "        end_time = time.time()  # End timing\n",
        "        epoch_time = end_time - start_time  # Calculate epoch duration\n",
        "        average_loss = running_loss / len(train_loader)\n",
        "\n",
        "        print(f'Epoch {epoch+1}, Average Loss: {average_loss}, Epoch Time: {epoch_time:.2f} seconds')\n"
      ]
    },
    {
      "cell_type": "code",
      "execution_count": 45,
      "metadata": {
        "id": "Q7dLewzEmXWD"
      },
      "outputs": [],
      "source": [
        "# 4. Model Evaluation\n",
        "def evaluate_model(model, test_loader, device):\n",
        "    model.eval()\n",
        "    model.to(device)\n",
        "    correct = 0\n",
        "    total = 0\n",
        "    with torch.no_grad():\n",
        "        for images, labels in test_loader:\n",
        "            images, labels = images.to(device), labels.to(device)\n",
        "            outputs = model(images)\n",
        "            _, predicted = torch.max(outputs.data, 1)\n",
        "            total += labels.size(0)\n",
        "            correct += (predicted == labels).sum().item()\n",
        "\n",
        "    print(f'Accuracy: {100 * correct / total}%')\n"
      ]
    },
    {
      "cell_type": "code",
      "execution_count": 46,
      "metadata": {
        "colab": {
          "base_uri": "https://localhost:8080/"
        },
        "id": "6_Cvu_Pi44K5",
        "outputId": "d6d19875-5fc2-499d-99bb-aaa48eec14c1"
      },
      "outputs": [
        {
          "name": "stderr",
          "output_type": "stream",
          "text": [
            "/usr/local/lib/python3.10/dist-packages/torchvision/models/_utils.py:208: UserWarning: The parameter 'pretrained' is deprecated since 0.13 and may be removed in the future, please use 'weights' instead.\n",
            "  warnings.warn(\n",
            "/usr/local/lib/python3.10/dist-packages/torchvision/models/_utils.py:223: UserWarning: Arguments other than a weight enum or `None` for 'weights' are deprecated since 0.13 and may be removed in the future. The current behavior is equivalent to passing `weights=ResNet50_Weights.IMAGENET1K_V1`. You can also use `weights=ResNet50_Weights.DEFAULT` to get the most up-to-date weights.\n",
            "  warnings.warn(msg)\n"
          ]
        },
        {
          "name": "stdout",
          "output_type": "stream",
          "text": [
            "Epoch 1, Step 20, Intermediate Loss: 3.5155599117279053\n",
            "Epoch 1, Step 40, Intermediate Loss: 3.0217132568359375\n",
            "Epoch 1, Step 60, Intermediate Loss: 2.9732985496520996\n",
            "Epoch 1, Step 80, Intermediate Loss: 2.755629539489746\n",
            "Epoch 1, Step 100, Intermediate Loss: 2.6672255992889404\n",
            "Epoch 1, Step 120, Intermediate Loss: 3.093343496322632\n",
            "Epoch 1, Step 140, Intermediate Loss: 2.2943475246429443\n",
            "Epoch 1, Step 160, Intermediate Loss: 2.1358838081359863\n",
            "Epoch 1, Step 180, Intermediate Loss: 2.773421049118042\n",
            "Epoch 1, Step 200, Intermediate Loss: 1.6024249792099\n",
            "Epoch 1, Step 220, Intermediate Loss: 2.2351114749908447\n",
            "Epoch 1, Step 240, Intermediate Loss: 2.0748350620269775\n",
            "Epoch 1, Average Loss: 2.680093662683354, Epoch Time: 41.01 seconds\n",
            "Epoch 2, Step 20, Intermediate Loss: 1.9613099098205566\n",
            "Epoch 2, Step 40, Intermediate Loss: 1.7018483877182007\n",
            "Epoch 2, Step 60, Intermediate Loss: 1.5175178050994873\n",
            "Epoch 2, Step 80, Intermediate Loss: 1.5747443437576294\n",
            "Epoch 2, Step 100, Intermediate Loss: 1.7553728818893433\n",
            "Epoch 2, Step 120, Intermediate Loss: 1.7420378923416138\n",
            "Epoch 2, Step 140, Intermediate Loss: 2.150970220565796\n",
            "Epoch 2, Step 160, Intermediate Loss: 2.4465487003326416\n",
            "Epoch 2, Step 180, Intermediate Loss: 1.3353022336959839\n",
            "Epoch 2, Step 200, Intermediate Loss: 1.9907810688018799\n",
            "Epoch 2, Step 220, Intermediate Loss: 1.9590845108032227\n",
            "Epoch 2, Step 240, Intermediate Loss: 2.008988618850708\n",
            "Epoch 2, Average Loss: 1.8524013743844143, Epoch Time: 40.49 seconds\n",
            "Epoch 3, Step 20, Intermediate Loss: 1.628698706626892\n",
            "Epoch 3, Step 40, Intermediate Loss: 1.7095210552215576\n",
            "Epoch 3, Step 60, Intermediate Loss: 1.524744987487793\n",
            "Epoch 3, Step 80, Intermediate Loss: 1.2700883150100708\n",
            "Epoch 3, Step 100, Intermediate Loss: 1.2844897508621216\n",
            "Epoch 3, Step 120, Intermediate Loss: 1.3148517608642578\n",
            "Epoch 3, Step 140, Intermediate Loss: 1.5009191036224365\n",
            "Epoch 3, Step 160, Intermediate Loss: 1.6133909225463867\n",
            "Epoch 3, Step 180, Intermediate Loss: 1.292474389076233\n",
            "Epoch 3, Step 200, Intermediate Loss: 1.0821492671966553\n",
            "Epoch 3, Step 220, Intermediate Loss: 1.521026849746704\n",
            "Epoch 3, Step 240, Intermediate Loss: 2.0050697326660156\n",
            "Epoch 3, Average Loss: 1.4516142140063204, Epoch Time: 40.66 seconds\n",
            "Epoch 4, Step 20, Intermediate Loss: 1.601616382598877\n",
            "Epoch 4, Step 40, Intermediate Loss: 0.9955164194107056\n",
            "Epoch 4, Step 60, Intermediate Loss: 1.1012226343154907\n",
            "Epoch 4, Step 80, Intermediate Loss: 1.6078407764434814\n",
            "Epoch 4, Step 100, Intermediate Loss: 1.2452495098114014\n",
            "Epoch 4, Step 120, Intermediate Loss: 1.2967125177383423\n",
            "Epoch 4, Step 140, Intermediate Loss: 0.931030809879303\n",
            "Epoch 4, Step 160, Intermediate Loss: 1.27788245677948\n",
            "Epoch 4, Step 180, Intermediate Loss: 1.0187127590179443\n",
            "Epoch 4, Step 200, Intermediate Loss: 1.1723599433898926\n",
            "Epoch 4, Step 220, Intermediate Loss: 1.2612247467041016\n",
            "Epoch 4, Step 240, Intermediate Loss: 0.9606924057006836\n",
            "Epoch 4, Average Loss: 1.1459137538606807, Epoch Time: 40.63 seconds\n",
            "Epoch 5, Step 20, Intermediate Loss: 1.1380410194396973\n",
            "Epoch 5, Step 40, Intermediate Loss: 1.2372537851333618\n",
            "Epoch 5, Step 60, Intermediate Loss: 0.7387648224830627\n",
            "Epoch 5, Step 80, Intermediate Loss: 0.6841228604316711\n",
            "Epoch 5, Step 100, Intermediate Loss: 0.5468750596046448\n",
            "Epoch 5, Step 120, Intermediate Loss: 1.0424710512161255\n",
            "Epoch 5, Step 140, Intermediate Loss: 0.9413112998008728\n",
            "Epoch 5, Step 160, Intermediate Loss: 1.0978758335113525\n",
            "Epoch 5, Step 180, Intermediate Loss: 0.6907953023910522\n",
            "Epoch 5, Step 200, Intermediate Loss: 0.7320189476013184\n",
            "Epoch 5, Step 220, Intermediate Loss: 1.031712532043457\n",
            "Epoch 5, Step 240, Intermediate Loss: 1.2048472166061401\n",
            "Epoch 5, Average Loss: 0.938424364656441, Epoch Time: 40.58 seconds\n",
            "Epoch 6, Step 20, Intermediate Loss: 0.4769381582736969\n",
            "Epoch 6, Step 40, Intermediate Loss: 0.5985028147697449\n",
            "Epoch 6, Step 60, Intermediate Loss: 0.7142373323440552\n",
            "Epoch 6, Step 80, Intermediate Loss: 0.7806907892227173\n",
            "Epoch 6, Step 100, Intermediate Loss: 1.2244325876235962\n",
            "Epoch 6, Step 120, Intermediate Loss: 0.852104127407074\n",
            "Epoch 6, Step 140, Intermediate Loss: 0.5060845613479614\n",
            "Epoch 6, Step 160, Intermediate Loss: 0.7396842241287231\n",
            "Epoch 6, Step 180, Intermediate Loss: 0.4976487457752228\n",
            "Epoch 6, Step 200, Intermediate Loss: 0.7745910286903381\n",
            "Epoch 6, Step 220, Intermediate Loss: 1.069899559020996\n",
            "Epoch 6, Step 240, Intermediate Loss: 1.2282613515853882\n",
            "Epoch 6, Average Loss: 0.7712701965094537, Epoch Time: 40.76 seconds\n",
            "Epoch 7, Step 20, Intermediate Loss: 0.6265164613723755\n",
            "Epoch 7, Step 40, Intermediate Loss: 0.6665686368942261\n",
            "Epoch 7, Step 60, Intermediate Loss: 0.4783271253108978\n",
            "Epoch 7, Step 80, Intermediate Loss: 0.7610176801681519\n",
            "Epoch 7, Step 100, Intermediate Loss: 0.4746510088443756\n",
            "Epoch 7, Step 120, Intermediate Loss: 0.7086677551269531\n",
            "Epoch 7, Step 140, Intermediate Loss: 0.35952556133270264\n",
            "Epoch 7, Step 160, Intermediate Loss: 0.7384122610092163\n",
            "Epoch 7, Step 180, Intermediate Loss: 0.9387646317481995\n",
            "Epoch 7, Step 200, Intermediate Loss: 0.48619309067726135\n",
            "Epoch 7, Step 220, Intermediate Loss: 0.3472635746002197\n",
            "Epoch 7, Step 240, Intermediate Loss: 0.5046974420547485\n",
            "Epoch 7, Average Loss: 0.6317682269123174, Epoch Time: 40.49 seconds\n",
            "Epoch 8, Step 20, Intermediate Loss: 0.6954267024993896\n",
            "Epoch 8, Step 40, Intermediate Loss: 0.3585220277309418\n",
            "Epoch 8, Step 60, Intermediate Loss: 0.41514211893081665\n",
            "Epoch 8, Step 80, Intermediate Loss: 0.6386416554450989\n",
            "Epoch 8, Step 100, Intermediate Loss: 0.4067629277706146\n",
            "Epoch 8, Step 120, Intermediate Loss: 0.6429306864738464\n",
            "Epoch 8, Step 140, Intermediate Loss: 0.35535740852355957\n",
            "Epoch 8, Step 160, Intermediate Loss: 0.3925243616104126\n",
            "Epoch 8, Step 180, Intermediate Loss: 0.6323142051696777\n",
            "Epoch 8, Step 200, Intermediate Loss: 0.4002574384212494\n",
            "Epoch 8, Step 220, Intermediate Loss: 0.5523743033409119\n",
            "Epoch 8, Step 240, Intermediate Loss: 0.8464616537094116\n",
            "Epoch 8, Average Loss: 0.4925932697085447, Epoch Time: 40.41 seconds\n",
            "Epoch 9, Step 20, Intermediate Loss: 0.40582016110420227\n",
            "Epoch 9, Step 40, Intermediate Loss: 0.39779841899871826\n",
            "Epoch 9, Step 60, Intermediate Loss: 0.4145885109901428\n",
            "Epoch 9, Step 80, Intermediate Loss: 0.30465617775917053\n",
            "Epoch 9, Step 100, Intermediate Loss: 0.26592931151390076\n",
            "Epoch 9, Step 120, Intermediate Loss: 0.3450932800769806\n",
            "Epoch 9, Step 140, Intermediate Loss: 0.4345018267631531\n",
            "Epoch 9, Step 160, Intermediate Loss: 0.2201477587223053\n",
            "Epoch 9, Step 180, Intermediate Loss: 0.300548791885376\n",
            "Epoch 9, Step 200, Intermediate Loss: 0.4014735519886017\n",
            "Epoch 9, Step 220, Intermediate Loss: 0.5852872729301453\n",
            "Epoch 9, Step 240, Intermediate Loss: 0.7030755281448364\n",
            "Epoch 9, Average Loss: 0.43349858979846156, Epoch Time: 40.60 seconds\n",
            "Epoch 10, Step 20, Intermediate Loss: 0.625691831111908\n",
            "Epoch 10, Step 40, Intermediate Loss: 0.10820437222719193\n",
            "Epoch 10, Step 60, Intermediate Loss: 0.33928748965263367\n",
            "Epoch 10, Step 80, Intermediate Loss: 0.22260962426662445\n",
            "Epoch 10, Step 100, Intermediate Loss: 0.2666795551776886\n",
            "Epoch 10, Step 120, Intermediate Loss: 0.3362078070640564\n",
            "Epoch 10, Step 140, Intermediate Loss: 0.31581369042396545\n",
            "Epoch 10, Step 160, Intermediate Loss: 0.3461160957813263\n",
            "Epoch 10, Step 180, Intermediate Loss: 0.6357082724571228\n",
            "Epoch 10, Step 200, Intermediate Loss: 0.2930970788002014\n",
            "Epoch 10, Step 220, Intermediate Loss: 0.13793745636940002\n",
            "Epoch 10, Step 240, Intermediate Loss: 0.4857679009437561\n",
            "Epoch 10, Average Loss: 0.3887117769598037, Epoch Time: 40.48 seconds\n",
            "Accuracy: 58.81495871782418%\n"
          ]
        }
      ],
      "source": [
        "# 5. Performance Optimization and Main Execution\n",
        "def main():\n",
        "    data_dir = '/content/drive/MyDrive/JPEGImages'\n",
        "    batch_size = 32\n",
        "    num_workers = 4\n",
        "    device = torch.device(\"cuda:0\" if torch.cuda.is_available() else \"cpu\")\n",
        "    num_classes = 50\n",
        "    epochs = 10\n",
        "\n",
        "    train_loader, test_loader = load_data(data_dir, batch_size, num_workers)\n",
        "    model = build_model(num_classes)\n",
        "    criterion = nn.CrossEntropyLoss()\n",
        "    optimizer = optim.Adam(model.parameters(), lr=0.001)\n",
        "\n",
        "    train_model(model, train_loader, criterion, optimizer, device, epochs)\n",
        "    evaluate_model(model, test_loader, device)\n",
        "\n",
        "if __name__ == \"__main__\":\n",
        "    main()\n",
        "\n"
      ]
    }
  ],
  "metadata": {
    "accelerator": "GPU",
    "colab": {
      "gpuType": "L4",
      "provenance": []
    },
    "kernelspec": {
      "display_name": "Python 3",
      "name": "python3"
    },
    "language_info": {
      "name": "python"
    }
  },
  "nbformat": 4,
  "nbformat_minor": 0
}
