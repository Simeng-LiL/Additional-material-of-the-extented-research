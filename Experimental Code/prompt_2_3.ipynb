{
  "cells": [
    {
      "cell_type": "code",
      "execution_count": 1,
      "metadata": {
        "colab": {
          "base_uri": "https://localhost:8080/"
        },
        "id": "8dqAXNHw4m2X",
        "outputId": "a4d3b6c8-6fa2-48f9-8392-8cb40ae4b48a"
      },
      "outputs": [
        {
          "name": "stdout",
          "output_type": "stream",
          "text": [
            "Mounted at /content/drive\n"
          ]
        }
      ],
      "source": [
        "from google.colab import drive\n",
        "drive.mount('/content/drive')"
      ]
    },
    {
      "cell_type": "code",
      "execution_count": 2,
      "metadata": {
        "id": "tv2GNRNk4NjR"
      },
      "outputs": [],
      "source": [
        "import torch\n",
        "import torch.nn as nn\n",
        "import torch.optim as optim\n",
        "from torch.utils.data import DataLoader\n",
        "from torchvision import datasets, transforms, models\n",
        "from sklearn.model_selection import train_test_split\n",
        "import os\n",
        "import time\n",
        "from PIL import Image"
      ]
    },
    {
      "cell_type": "code",
      "execution_count": 8,
      "metadata": {
        "id": "xLpwf9r84rK6"
      },
      "outputs": [],
      "source": [
        "# Data Loading and Splitting\n",
        "data_dir = '/content/drive/MyDrive/JPEGImages'\n",
        "classes = os.listdir(data_dir)\n",
        "class_to_idx = {cls_name: i for i, cls_name in enumerate(classes)}\n",
        "\n",
        "def load_data(data_dir, classes):\n",
        "    images = []\n",
        "    labels = []\n",
        "    valid_extensions = ['.jpg', '.jpeg', '.png']\n",
        "    for cls in classes:\n",
        "        cls_folder = os.path.join(data_dir, cls)\n",
        "        for img_filename in os.listdir(cls_folder):\n",
        "            if any(img_filename.lower().endswith(ext) for ext in valid_extensions):\n",
        "                img_path = os.path.join(cls_folder, img_filename)\n",
        "                images.append(img_path)\n",
        "                labels.append(class_to_idx[cls])\n",
        "    return train_test_split(images, labels, test_size=0.2, random_state=42)\n",
        "\n",
        "train_paths, test_paths, train_labels, test_labels = load_data(data_dir, classes)"
      ]
    },
    {
      "cell_type": "code",
      "execution_count": 9,
      "metadata": {
        "id": "0YCP1-ZO4ygH"
      },
      "outputs": [],
      "source": [
        "# Data Preprocessing\n",
        "transform = transforms.Compose([\n",
        "    transforms.Lambda(lambda x: x.convert('RGB')),  # Convert image to RGB\n",
        "    transforms.Resize((224, 224)),\n",
        "    transforms.ToTensor(),\n",
        "    transforms.Normalize(mean=[0.485, 0.456, 0.406], std=[0.229, 0.224, 0.225])\n",
        "])\n",
        "\n",
        "class CustomDataset(torch.utils.data.Dataset):\n",
        "    def __init__(self, image_paths, labels, transform=None):\n",
        "        self.image_paths = image_paths\n",
        "        self.labels = labels\n",
        "        self.transform = transform\n",
        "\n",
        "    def __len__(self):\n",
        "        return len(self.image_paths)\n",
        "\n",
        "    def __getitem__(self, idx):\n",
        "        image = Image.open(self.image_paths[idx])\n",
        "        label = self.labels[idx]\n",
        "        if self.transform:\n",
        "            image = self.transform(image)\n",
        "        return image, label\n",
        "\n",
        "train_dataset = CustomDataset(train_paths, train_labels, transform=transform)\n",
        "test_dataset = CustomDataset(test_paths, test_labels, transform=transform)\n",
        "\n",
        "train_loader = DataLoader(train_dataset, batch_size=64, shuffle=True, num_workers=8)\n",
        "test_loader = DataLoader(test_dataset, batch_size=64, shuffle=False, num_workers=8)\n"
      ]
    },
    {
      "cell_type": "code",
      "execution_count": 10,
      "metadata": {
        "id": "GwcwWjQ040KS"
      },
      "outputs": [],
      "source": [
        "# Model Definition\n",
        "model = models.resnet50(pretrained=True)\n",
        "num_ftrs = model.fc.in_features\n",
        "model.fc = nn.Linear(num_ftrs, len(classes))\n"
      ]
    },
    {
      "cell_type": "code",
      "execution_count": 11,
      "metadata": {
        "colab": {
          "base_uri": "https://localhost:8080/"
        },
        "id": "OAt_uaM44_Go",
        "outputId": "8a0813eb-3a8c-48e4-906b-d9c25ed3a7c6"
      },
      "outputs": [
        {
          "name": "stdout",
          "output_type": "stream",
          "text": [
            "Epoch 1, Step 20, Loss: 2.6143\n",
            "Epoch 1, Step 40, Loss: 2.0254\n",
            "Epoch 1, Step 60, Loss: 1.9257\n",
            "Epoch 1, Step 80, Loss: 1.4059\n",
            "Epoch 1, Step 100, Loss: 1.9724\n",
            "Epoch 1, Step 120, Loss: 1.6461\n",
            "Epoch 1/10, Average Loss: 2.0037\n",
            "Epoch 2, Step 20, Loss: 1.2849\n",
            "Epoch 2, Step 40, Loss: 1.0207\n",
            "Epoch 2, Step 60, Loss: 1.1007\n",
            "Epoch 2, Step 80, Loss: 1.2801\n",
            "Epoch 2, Step 100, Loss: 1.1736\n",
            "Epoch 2, Step 120, Loss: 1.3694\n",
            "Epoch 2/10, Average Loss: 1.2371\n",
            "Epoch 3, Step 20, Loss: 0.7791\n",
            "Epoch 3, Step 40, Loss: 0.9270\n",
            "Epoch 3, Step 60, Loss: 0.5734\n",
            "Epoch 3, Step 80, Loss: 1.0129\n",
            "Epoch 3, Step 100, Loss: 0.9868\n",
            "Epoch 3, Step 120, Loss: 0.6083\n",
            "Epoch 3/10, Average Loss: 0.9044\n",
            "Epoch 4, Step 20, Loss: 0.3775\n",
            "Epoch 4, Step 40, Loss: 0.4220\n",
            "Epoch 4, Step 60, Loss: 0.5030\n",
            "Epoch 4, Step 80, Loss: 0.7262\n",
            "Epoch 4, Step 100, Loss: 0.9308\n",
            "Epoch 4, Step 120, Loss: 0.9444\n",
            "Epoch 4/10, Average Loss: 0.6978\n",
            "Epoch 5, Step 20, Loss: 0.4384\n",
            "Epoch 5, Step 40, Loss: 0.7181\n",
            "Epoch 5, Step 60, Loss: 0.4422\n",
            "Epoch 5, Step 80, Loss: 0.4490\n",
            "Epoch 5, Step 100, Loss: 0.9617\n",
            "Epoch 5, Step 120, Loss: 0.4617\n",
            "Epoch 5/10, Average Loss: 0.5476\n",
            "Epoch 6, Step 20, Loss: 0.4648\n",
            "Epoch 6, Step 40, Loss: 0.2420\n",
            "Epoch 6, Step 60, Loss: 0.3180\n",
            "Epoch 6, Step 80, Loss: 0.5407\n",
            "Epoch 6, Step 100, Loss: 0.5492\n",
            "Epoch 6, Step 120, Loss: 0.2953\n",
            "Epoch 6/10, Average Loss: 0.4516\n",
            "Epoch 7, Step 20, Loss: 0.4266\n",
            "Epoch 7, Step 40, Loss: 0.4395\n",
            "Epoch 7, Step 60, Loss: 0.5757\n",
            "Epoch 7, Step 80, Loss: 0.4603\n",
            "Epoch 7, Step 100, Loss: 0.2855\n",
            "Epoch 7, Step 120, Loss: 0.4255\n",
            "Epoch 7/10, Average Loss: 0.3850\n",
            "Epoch 8, Step 20, Loss: 0.2595\n",
            "Epoch 8, Step 40, Loss: 0.1785\n",
            "Epoch 8, Step 60, Loss: 0.1378\n",
            "Epoch 8, Step 80, Loss: 0.0936\n",
            "Epoch 8, Step 100, Loss: 0.0980\n",
            "Epoch 8, Step 120, Loss: 0.1599\n",
            "Epoch 8/10, Average Loss: 0.1361\n",
            "Epoch 9, Step 20, Loss: 0.0507\n",
            "Epoch 9, Step 40, Loss: 0.0610\n",
            "Epoch 9, Step 60, Loss: 0.0785\n",
            "Epoch 9, Step 80, Loss: 0.0731\n",
            "Epoch 9, Step 100, Loss: 0.0542\n",
            "Epoch 9, Step 120, Loss: 0.0798\n",
            "Epoch 9/10, Average Loss: 0.0559\n",
            "Epoch 10, Step 20, Loss: 0.0297\n",
            "Epoch 10, Step 40, Loss: 0.0535\n",
            "Epoch 10, Step 60, Loss: 0.0636\n",
            "Epoch 10, Step 80, Loss: 0.0133\n",
            "Epoch 10, Step 100, Loss: 0.0228\n",
            "Epoch 10, Step 120, Loss: 0.0215\n",
            "Epoch 10/10, Average Loss: 0.0389\n",
            "Training completed in: 15m 18s\n"
          ]
        }
      ],
      "source": [
        "# Device Configuration and Model Training with Mixed Precision\n",
        "device = torch.device(\"cuda\" if torch.cuda.is_available() else \"cpu\")\n",
        "model = model.to(device)\n",
        "criterion = nn.CrossEntropyLoss()\n",
        "optimizer = optim.Adam(model.parameters(), lr=0.001)\n",
        "scheduler = optim.lr_scheduler.StepLR(optimizer, step_size=7, gamma=0.1)\n",
        "epochs = 10\n",
        "scaler = torch.cuda.amp.GradScaler()\n",
        "\n",
        "start_time = time.time()  # Start timing\n",
        "\n",
        "for epoch in range(epochs):\n",
        "    model.train()\n",
        "    running_loss = 0.0\n",
        "    step_counter = 0\n",
        "\n",
        "    for images, labels in train_loader:\n",
        "        images = images.to(device)\n",
        "        labels = labels.to(device)\n",
        "\n",
        "        optimizer.zero_grad()\n",
        "\n",
        "        with torch.cuda.amp.autocast():\n",
        "            outputs = model(images)\n",
        "            loss = criterion(outputs, labels)\n",
        "\n",
        "        scaler.scale(loss).backward()\n",
        "        scaler.step(optimizer)\n",
        "        scaler.update()\n",
        "\n",
        "        running_loss += loss.item() * images.size(0)\n",
        "        step_counter += 1\n",
        "\n",
        "        if step_counter % 20 == 0:\n",
        "            print(f'Epoch {epoch+1}, Step {step_counter}, Loss: {loss.item():.4f}')\n",
        "\n",
        "    scheduler.step()\n",
        "    epoch_loss = running_loss / len(train_dataset)\n",
        "    print(f'Epoch {epoch+1}/{epochs}, Average Loss: {epoch_loss:.4f}')\n",
        "\n",
        "elapsed_time = time.time() - start_time\n",
        "print(f'Training completed in: {elapsed_time//60:.0f}m {elapsed_time%60:.0f}s')"
      ]
    },
    {
      "cell_type": "code",
      "execution_count": 12,
      "metadata": {
        "colab": {
          "base_uri": "https://localhost:8080/"
        },
        "id": "468Wc3WK4-1U",
        "outputId": "e604ff99-5336-4510-a594-82138f092531"
      },
      "outputs": [
        {
          "name": "stdout",
          "output_type": "stream",
          "text": [
            "Test Accuracy: 81.16%\n"
          ]
        }
      ],
      "source": [
        "# Model Evaluation\n",
        "model.eval()\n",
        "correct = 0\n",
        "total = 0\n",
        "with torch.no_grad(), torch.cuda.amp.autocast():\n",
        "    for images, labels in test_loader:\n",
        "        images = images.to(device)\n",
        "        labels = labels.to(device)\n",
        "        outputs = model(images)\n",
        "        _, predicted = torch.max(outputs.data, 1)\n",
        "        total += labels.size(0)\n",
        "        correct += (predicted == labels).sum().item()\n",
        "accuracy = 100 * correct / total\n",
        "print(f'Test Accuracy: {accuracy:.2f}%')"
      ]
    }
  ],
  "metadata": {
    "accelerator": "GPU",
    "colab": {
      "gpuType": "L4",
      "provenance": []
    },
    "kernelspec": {
      "display_name": "Python 3",
      "name": "python3"
    },
    "language_info": {
      "name": "python"
    }
  },
  "nbformat": 4,
  "nbformat_minor": 0
}
