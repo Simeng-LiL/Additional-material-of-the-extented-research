{
  "cells": [
    {
      "cell_type": "code",
      "execution_count": 1,
      "metadata": {
        "colab": {
          "base_uri": "https://localhost:8080/"
        },
        "id": "RpxHnFrHBxUd",
        "outputId": "731e4561-e60a-4292-aeb4-94c10c83f078"
      },
      "outputs": [
        {
          "name": "stdout",
          "output_type": "stream",
          "text": [
            "Mounted at /content/drive\n"
          ]
        }
      ],
      "source": [
        "from google.colab import drive\n",
        "drive.mount('/content/drive')"
      ]
    },
    {
      "cell_type": "code",
      "execution_count": 2,
      "metadata": {
        "id": "RS8jnLMBBuYx"
      },
      "outputs": [],
      "source": [
        "import os\n",
        "import time\n",
        "import torch\n",
        "import torchvision\n",
        "import torchvision.transforms as transforms\n",
        "from torch.utils.data import DataLoader, random_split, Subset\n",
        "from torchvision.datasets import ImageFolder\n",
        "from torchvision.models import resnet50\n",
        "import torch.nn as nn\n",
        "import torch.optim as optim\n",
        "from torch.cuda.amp import GradScaler, autocast\n",
        "from torch.utils.data import WeightedRandomSampler"
      ]
    },
    {
      "cell_type": "code",
      "execution_count": 3,
      "metadata": {
        "id": "Y1szMA1XB7XC"
      },
      "outputs": [],
      "source": [
        "# Set device\n",
        "device = torch.device(\"cuda\" if torch.cuda.is_available() else \"cpu\")\n",
        "\n",
        "def load_data(data_dir, batch_size, num_workers, pin_memory):\n",
        "    transform = transforms.Compose([\n",
        "        transforms.Resize((224, 224)),\n",
        "        transforms.ToTensor(),\n",
        "        transforms.Normalize(mean=[0.485, 0.456, 0.406], std=[0.229, 0.224, 0.225])  # Normalize images\n",
        "    ])\n",
        "\n",
        "    # Load the dataset from folders\n",
        "    full_dataset = ImageFolder(root=data_dir, transform=transform)\n",
        "\n",
        "    # Calculate class weights and sample weights\n",
        "    class_counts = torch.zeros(len(full_dataset.classes))\n",
        "    for _, index in full_dataset.samples:\n",
        "        class_counts[index] += 1\n",
        "\n",
        "    class_weights = 1.0 / (class_counts + 1e-6)  # Add a small constant to avoid division by zero\n",
        "    sample_weights = torch.tensor([class_weights[i] for i in full_dataset.targets])\n",
        "\n",
        "    # Split into training and testing sets\n",
        "    train_size = int(0.8 * len(full_dataset))\n",
        "    test_size = len(full_dataset) - train_size\n",
        "    train_dataset, test_dataset = random_split(full_dataset, [train_size, test_size])\n",
        "\n",
        "    # WeightedRandomSampler for the training set\n",
        "    train_sampler = WeightedRandomSampler(weights=sample_weights[train_dataset.indices], num_samples=len(train_dataset), replacement=True)\n",
        "\n",
        "    # DataLoaders\n",
        "    train_loader = DataLoader(train_dataset, batch_size=batch_size, sampler=train_sampler, num_workers=num_workers, pin_memory=pin_memory)\n",
        "    test_loader = DataLoader(test_dataset, batch_size=batch_size, shuffle=False, num_workers=num_workers, pin_memory=pin_memory)\n",
        "\n",
        "    return train_loader, test_loader\n"
      ]
    },
    {
      "cell_type": "code",
      "execution_count": 4,
      "metadata": {
        "id": "FKxfnsYwBvBr"
      },
      "outputs": [],
      "source": [
        "# Model definition\n",
        "def define_model():\n",
        "    model = resnet50(pretrained=True)\n",
        "    num_features = model.fc.in_features\n",
        "    model.fc = nn.Sequential(\n",
        "        nn.Linear(num_features, 512),\n",
        "        nn.ReLU(),\n",
        "        nn.Dropout(0.5),\n",
        "        nn.BatchNorm1d(512),\n",
        "        nn.Linear(512, 50)  # 50 classes\n",
        "    )\n",
        "    return model.to(device)\n",
        "\n",
        "\n"
      ]
    },
    {
      "cell_type": "code",
      "execution_count": 5,
      "metadata": {
        "id": "A7IqF9n2CZ7B"
      },
      "outputs": [],
      "source": [
        "# Training the model\n",
        "def train_model(model, train_loader, epochs, learning_rate):\n",
        "    criterion = nn.CrossEntropyLoss()\n",
        "    optimizer = optim.Adam(model.parameters(), lr=learning_rate)\n",
        "    scaler = GradScaler()\n",
        "\n",
        "    for epoch in range(epochs):\n",
        "        model.train()\n",
        "        epoch_start_time = time.time()\n",
        "        for i, (images, labels) in enumerate(train_loader):\n",
        "            images, labels = images.to(device), labels.to(device)\n",
        "\n",
        "            with autocast():\n",
        "                outputs = model(images)\n",
        "                loss = criterion(outputs, labels)\n",
        "\n",
        "            optimizer.zero_grad()\n",
        "            scaler.scale(loss).backward()\n",
        "            scaler.step(optimizer)\n",
        "            scaler.update()\n",
        "\n",
        "            if (i + 1) % 20 == 0:\n",
        "                print(f'Epoch [{epoch+1}/{epochs}], Step [{i+1}/{len(train_loader)}], Loss: {loss.item():.4f}')\n",
        "\n",
        "        epoch_end_time = time.time()\n",
        "        epoch_duration = epoch_end_time - epoch_start_time\n",
        "        print(f'Epoch [{epoch+1}/{epochs}] completed in {epoch_duration:.2f} seconds')\n"
      ]
    },
    {
      "cell_type": "code",
      "execution_count": 6,
      "metadata": {
        "id": "JrKueCkLCbj8"
      },
      "outputs": [],
      "source": [
        "# Model evaluation\n",
        "def evaluate_model(model, test_loader):\n",
        "    model.eval()\n",
        "    correct = 0\n",
        "    total = 0\n",
        "    with torch.no_grad():\n",
        "        for images, labels in test_loader:\n",
        "            images, labels = images.to(device), labels.to(device)\n",
        "            outputs = model(images)\n",
        "            _, predicted = torch.max(outputs.data, 1)\n",
        "            total += labels.size(0)\n",
        "            correct += (predicted == labels).sum().item()\n",
        "\n",
        "    accuracy = 100 * correct / total\n",
        "    print(f'Accuracy of the model on the test images: {accuracy:.2f}%')"
      ]
    },
    {
      "cell_type": "code",
      "execution_count": 7,
      "metadata": {
        "colab": {
          "base_uri": "https://localhost:8080/"
        },
        "id": "HEk4YFe9Ccvb",
        "outputId": "c204ebaf-6c42-48dc-e8eb-1fb8379e19ce"
      },
      "outputs": [
        {
          "name": "stderr",
          "output_type": "stream",
          "text": [
            "/usr/local/lib/python3.10/dist-packages/torchvision/models/_utils.py:208: UserWarning: The parameter 'pretrained' is deprecated since 0.13 and may be removed in the future, please use 'weights' instead.\n",
            "  warnings.warn(\n",
            "/usr/local/lib/python3.10/dist-packages/torchvision/models/_utils.py:223: UserWarning: Arguments other than a weight enum or `None` for 'weights' are deprecated since 0.13 and may be removed in the future. The current behavior is equivalent to passing `weights=ResNet50_Weights.IMAGENET1K_V1`. You can also use `weights=ResNet50_Weights.DEFAULT` to get the most up-to-date weights.\n",
            "  warnings.warn(msg)\n",
            "Downloading: \"https://download.pytorch.org/models/resnet50-0676ba61.pth\" to /root/.cache/torch/hub/checkpoints/resnet50-0676ba61.pth\n",
            "100%|██████████| 97.8M/97.8M [00:00<00:00, 162MB/s]\n"
          ]
        },
        {
          "name": "stdout",
          "output_type": "stream",
          "text": [
            "Epoch [1/10], Step [20/129], Loss: 3.0583\n",
            "Epoch [1/10], Step [40/129], Loss: 2.5757\n",
            "Epoch [1/10], Step [60/129], Loss: 2.1621\n",
            "Epoch [1/10], Step [80/129], Loss: 1.7886\n",
            "Epoch [1/10], Step [100/129], Loss: 1.9454\n",
            "Epoch [1/10], Step [120/129], Loss: 1.7703\n",
            "Epoch [1/10] completed in 249.43 seconds\n",
            "Epoch [2/10], Step [20/129], Loss: 1.7760\n",
            "Epoch [2/10], Step [40/129], Loss: 1.9114\n",
            "Epoch [2/10], Step [60/129], Loss: 1.3262\n",
            "Epoch [2/10], Step [80/129], Loss: 1.5620\n",
            "Epoch [2/10], Step [100/129], Loss: 1.4433\n",
            "Epoch [2/10], Step [120/129], Loss: 1.1647\n",
            "Epoch [2/10] completed in 102.83 seconds\n",
            "Epoch [3/10], Step [20/129], Loss: 1.1011\n",
            "Epoch [3/10], Step [40/129], Loss: 1.1316\n",
            "Epoch [3/10], Step [60/129], Loss: 0.9999\n",
            "Epoch [3/10], Step [80/129], Loss: 1.0285\n",
            "Epoch [3/10], Step [100/129], Loss: 1.1363\n",
            "Epoch [3/10], Step [120/129], Loss: 1.1289\n",
            "Epoch [3/10] completed in 59.93 seconds\n",
            "Epoch [4/10], Step [20/129], Loss: 0.8005\n",
            "Epoch [4/10], Step [40/129], Loss: 1.2245\n",
            "Epoch [4/10], Step [60/129], Loss: 0.9820\n",
            "Epoch [4/10], Step [80/129], Loss: 1.2008\n",
            "Epoch [4/10], Step [100/129], Loss: 0.9655\n",
            "Epoch [4/10], Step [120/129], Loss: 1.0758\n",
            "Epoch [4/10] completed in 39.96 seconds\n",
            "Epoch [5/10], Step [20/129], Loss: 0.5035\n",
            "Epoch [5/10], Step [40/129], Loss: 0.7857\n",
            "Epoch [5/10], Step [60/129], Loss: 0.9160\n",
            "Epoch [5/10], Step [80/129], Loss: 0.7880\n",
            "Epoch [5/10], Step [100/129], Loss: 0.6446\n",
            "Epoch [5/10], Step [120/129], Loss: 0.4473\n",
            "Epoch [5/10] completed in 33.41 seconds\n",
            "Epoch [6/10], Step [20/129], Loss: 0.4516\n",
            "Epoch [6/10], Step [40/129], Loss: 0.5075\n",
            "Epoch [6/10], Step [60/129], Loss: 0.7283\n",
            "Epoch [6/10], Step [80/129], Loss: 0.6206\n",
            "Epoch [6/10], Step [100/129], Loss: 0.7087\n",
            "Epoch [6/10], Step [120/129], Loss: 0.6322\n",
            "Epoch [6/10] completed in 30.85 seconds\n",
            "Epoch [7/10], Step [20/129], Loss: 0.5217\n",
            "Epoch [7/10], Step [40/129], Loss: 0.7418\n",
            "Epoch [7/10], Step [60/129], Loss: 0.4124\n",
            "Epoch [7/10], Step [80/129], Loss: 0.4548\n",
            "Epoch [7/10], Step [100/129], Loss: 0.3922\n",
            "Epoch [7/10], Step [120/129], Loss: 0.3588\n",
            "Epoch [7/10] completed in 29.65 seconds\n",
            "Epoch [8/10], Step [20/129], Loss: 0.4089\n",
            "Epoch [8/10], Step [40/129], Loss: 0.3349\n",
            "Epoch [8/10], Step [60/129], Loss: 0.4682\n",
            "Epoch [8/10], Step [80/129], Loss: 0.5658\n",
            "Epoch [8/10], Step [100/129], Loss: 0.4403\n",
            "Epoch [8/10], Step [120/129], Loss: 0.3302\n",
            "Epoch [8/10] completed in 28.69 seconds\n",
            "Epoch [9/10], Step [20/129], Loss: 0.4012\n",
            "Epoch [9/10], Step [40/129], Loss: 0.2854\n",
            "Epoch [9/10], Step [60/129], Loss: 0.3856\n",
            "Epoch [9/10], Step [80/129], Loss: 0.2577\n",
            "Epoch [9/10], Step [100/129], Loss: 0.3831\n",
            "Epoch [9/10], Step [120/129], Loss: 0.3406\n",
            "Epoch [9/10] completed in 28.61 seconds\n",
            "Epoch [10/10], Step [20/129], Loss: 0.4332\n",
            "Epoch [10/10], Step [40/129], Loss: 0.2534\n",
            "Epoch [10/10], Step [60/129], Loss: 0.1634\n",
            "Epoch [10/10], Step [80/129], Loss: 0.1412\n",
            "Epoch [10/10], Step [100/129], Loss: 0.1514\n",
            "Epoch [10/10], Step [120/129], Loss: 0.1934\n",
            "Epoch [10/10] completed in 28.51 seconds\n",
            "Accuracy of the model on the test images: 65.52%\n"
          ]
        }
      ],
      "source": [
        "# Main function\n",
        "def main():\n",
        "    data_dir = '/content/drive/MyDrive/JPEGImages'\n",
        "    batch_size = 64\n",
        "    num_workers = 8\n",
        "    pin_memory = True\n",
        "    epochs = 10\n",
        "    learning_rate = 0.001\n",
        "\n",
        "    train_loader, test_loader = load_data(data_dir, batch_size, num_workers, pin_memory)\n",
        "    model = define_model()\n",
        "    train_model(model, train_loader, epochs, learning_rate)\n",
        "    evaluate_model(model, test_loader)\n",
        "\n",
        "if __name__ == '__main__':\n",
        "    main()"
      ]
    }
  ],
  "metadata": {
    "accelerator": "GPU",
    "colab": {
      "gpuType": "L4",
      "provenance": []
    },
    "kernelspec": {
      "display_name": "Python 3",
      "name": "python3"
    },
    "language_info": {
      "name": "python"
    }
  },
  "nbformat": 4,
  "nbformat_minor": 0
}
