{
  "cells": [
    {
      "cell_type": "code",
      "execution_count": 1,
      "metadata": {
        "colab": {
          "base_uri": "https://localhost:8080/"
        },
        "id": "RpxHnFrHBxUd",
        "outputId": "731e4561-e60a-4292-aeb4-94c10c83f078"
      },
      "outputs": [
        {
          "name": "stdout",
          "output_type": "stream",
          "text": [
            "Mounted at /content/drive\n"
          ]
        }
      ],
      "source": [
        "from google.colab import drive\n",
        "drive.mount('/content/drive')"
      ]
    },
    {
      "cell_type": "code",
      "execution_count": 8,
      "metadata": {
        "id": "RS8jnLMBBuYx"
      },
      "outputs": [],
      "source": [
        "import os\n",
        "import time\n",
        "import torch\n",
        "import torchvision\n",
        "import torchvision.transforms as transforms\n",
        "from torchvision.datasets import ImageFolder\n",
        "from torch.utils.data import DataLoader, random_split, WeightedRandomSampler\n",
        "from torchvision import models\n",
        "import torch.nn as nn\n",
        "import torch.optim as optim\n",
        "import numpy as np"
      ]
    },
    {
      "cell_type": "code",
      "execution_count": 9,
      "metadata": {
        "id": "Y1szMA1XB7XC"
      },
      "outputs": [],
      "source": [
        "# Constants\n",
        "DATA_DIR = '/content/drive/MyDrive/JPEGImages'\n",
        "BATCH_SIZE = 64\n",
        "NUM_WORKERS = 8\n",
        "PIN_MEMORY = True\n",
        "TRAINING_EPOCHS = 10\n",
        "LEARNING_RATE = 0.001\n",
        "device = torch.device(\"cuda\" if torch.cuda.is_available() else \"cpu\")\n",
        "\n",
        "# Data Loading and preprocessing\n",
        "def load_data(data_dir):\n",
        "    transform = transforms.Compose([\n",
        "        transforms.Resize((224, 224)),  # Resize all images to 224x224\n",
        "        transforms.ToTensor(),\n",
        "        transforms.Normalize(mean=[0.485, 0.456, 0.406], std=[0.229, 0.224, 0.225])\n",
        "    ])\n",
        "    dataset = ImageFolder(data_dir, transform=transform)\n",
        "    class_counts = np.array([0] * len(dataset.classes))\n",
        "    for _, index in dataset.samples:\n",
        "        class_counts[index] += 1\n",
        "    class_weights = 1. / (torch.tensor(class_counts, dtype=torch.float) + 1e-6)\n",
        "    sample_weights = class_weights[[index for _, index in dataset.samples]]\n",
        "    train_size = int(0.8 * len(dataset))\n",
        "    test_size = len(dataset) - train_size\n",
        "    train_dataset, test_dataset = random_split(dataset, [train_size, test_size])\n",
        "    train_indices = [dataset.samples[i][1] for i in train_dataset.indices]  # get class indices for training samples\n",
        "    train_sampler = WeightedRandomSampler(class_weights[train_indices], len(train_indices))\n",
        "    return train_dataset, test_dataset, train_sampler\n",
        "\n",
        "train_data, test_data, train_sampler = load_data(DATA_DIR)\n",
        "\n",
        "# DataLoader\n",
        "train_loader = DataLoader(train_data, batch_size=BATCH_SIZE, sampler=train_sampler, num_workers=NUM_WORKERS, pin_memory=PIN_MEMORY)\n",
        "test_loader = DataLoader(test_data, batch_size=BATCH_SIZE, num_workers=NUM_WORKERS, pin_memory=PIN_MEMORY)"
      ]
    },
    {
      "cell_type": "code",
      "execution_count": 10,
      "metadata": {
        "id": "FKxfnsYwBvBr"
      },
      "outputs": [],
      "source": [
        "# Model definition\n",
        "def create_model():\n",
        "    model = models.resnet50(pretrained=True)\n",
        "    num_ftrs = model.fc.in_features\n",
        "    model.fc = nn.Sequential(\n",
        "        nn.Linear(num_ftrs, 512),\n",
        "        nn.ReLU(),\n",
        "        nn.Dropout(0.5),\n",
        "        nn.BatchNorm1d(512),\n",
        "        nn.Linear(512, 50)\n",
        "    )\n",
        "    return model\n",
        "\n",
        "model = create_model()\n",
        "model = model.to(device)\n"
      ]
    },
    {
      "cell_type": "code",
      "execution_count": 14,
      "metadata": {
        "id": "A7IqF9n2CZ7B"
      },
      "outputs": [],
      "source": [
        "# Model Training\n",
        "def train_model(model, train_loader):\n",
        "    criterion = nn.CrossEntropyLoss().to(device)\n",
        "    optimizer = optim.Adam(model.parameters(), lr=LEARNING_RATE)\n",
        "    scaler = torch.cuda.amp.GradScaler()\n",
        "    model.train()\n",
        "    for epoch in range(TRAINING_EPOCHS):\n",
        "        start_time = time.time()\n",
        "        for i, (inputs, labels) in enumerate(train_loader):\n",
        "            inputs, labels = inputs.to(device), labels.to(device)\n",
        "            with torch.cuda.amp.autocast():\n",
        "                outputs = model(inputs)\n",
        "                loss = criterion(outputs, labels)\n",
        "            scaler.scale(loss).backward()\n",
        "            scaler.step(optimizer)\n",
        "            scaler.update()\n",
        "            optimizer.zero_grad()\n",
        "            if i % 20 == 0:\n",
        "                print(f'Epoch {epoch}, Step {i}, Loss: {loss.item()}')\n",
        "        epoch_duration = time.time() - start_time\n",
        "        print(f'Epoch {epoch} completed in {epoch_duration:.2f} seconds')\n"
      ]
    },
    {
      "cell_type": "code",
      "execution_count": 15,
      "metadata": {
        "id": "JrKueCkLCbj8"
      },
      "outputs": [],
      "source": [
        "# Model Evaluation\n",
        "def evaluate_model(model, test_loader):\n",
        "    model.eval()\n",
        "    correct = 0\n",
        "    total = 0\n",
        "    with torch.no_grad():\n",
        "        for inputs, labels in test_loader:\n",
        "            inputs, labels = inputs.to(device), labels.to(device)\n",
        "            outputs = model(inputs)\n",
        "            _, predicted = torch.max(outputs.data, 1)\n",
        "            total += labels.size(0)\n",
        "            correct += (predicted == labels).sum().item()\n",
        "    accuracy = 100 * correct / total\n",
        "    print(f'Accuracy on the test set: {accuracy:.2f}%')\n",
        "\n"
      ]
    },
    {
      "cell_type": "code",
      "execution_count": 16,
      "metadata": {
        "colab": {
          "base_uri": "https://localhost:8080/"
        },
        "id": "HEk4YFe9Ccvb",
        "outputId": "01d43b16-2067-415e-8b43-48c70e84f868"
      },
      "outputs": [
        {
          "name": "stdout",
          "output_type": "stream",
          "text": [
            "Epoch 0, Step 0, Loss: 2.119572639465332\n",
            "Epoch 0, Step 20, Loss: 2.3155622482299805\n",
            "Epoch 0, Step 40, Loss: 2.225698947906494\n",
            "Epoch 0, Step 60, Loss: 1.9682159423828125\n",
            "Epoch 0, Step 80, Loss: 1.8339200019836426\n",
            "Epoch 0, Step 100, Loss: 1.5913962125778198\n",
            "Epoch 0, Step 120, Loss: 1.7068402767181396\n",
            "Epoch 0 completed in 28.12 seconds\n",
            "Epoch 1, Step 0, Loss: 1.3185474872589111\n",
            "Epoch 1, Step 20, Loss: 1.0905601978302002\n",
            "Epoch 1, Step 40, Loss: 1.4415557384490967\n",
            "Epoch 1, Step 60, Loss: 1.6738741397857666\n",
            "Epoch 1, Step 80, Loss: 1.4883043766021729\n",
            "Epoch 1, Step 100, Loss: 1.3111207485198975\n",
            "Epoch 1, Step 120, Loss: 1.1752679347991943\n",
            "Epoch 1 completed in 28.16 seconds\n",
            "Epoch 2, Step 0, Loss: 1.0407236814498901\n",
            "Epoch 2, Step 20, Loss: 1.2859675884246826\n",
            "Epoch 2, Step 40, Loss: 1.452837347984314\n",
            "Epoch 2, Step 60, Loss: 1.2161704301834106\n",
            "Epoch 2, Step 80, Loss: 1.0208377838134766\n",
            "Epoch 2, Step 100, Loss: 1.2581877708435059\n",
            "Epoch 2, Step 120, Loss: 0.9104627966880798\n",
            "Epoch 2 completed in 28.19 seconds\n",
            "Epoch 3, Step 0, Loss: 0.9208449125289917\n",
            "Epoch 3, Step 20, Loss: 1.135979413986206\n",
            "Epoch 3, Step 40, Loss: 1.1272532939910889\n",
            "Epoch 3, Step 60, Loss: 1.0839060544967651\n",
            "Epoch 3, Step 80, Loss: 1.032684087753296\n",
            "Epoch 3, Step 100, Loss: 0.9498149156570435\n",
            "Epoch 3, Step 120, Loss: 0.8101627826690674\n",
            "Epoch 3 completed in 28.23 seconds\n",
            "Epoch 4, Step 0, Loss: 0.7568309307098389\n",
            "Epoch 4, Step 20, Loss: 0.6619647145271301\n",
            "Epoch 4, Step 40, Loss: 0.8178114295005798\n",
            "Epoch 4, Step 60, Loss: 0.7303386330604553\n",
            "Epoch 4, Step 80, Loss: 0.5870082378387451\n",
            "Epoch 4, Step 100, Loss: 0.6789196729660034\n",
            "Epoch 4, Step 120, Loss: 0.5990408658981323\n",
            "Epoch 4 completed in 28.34 seconds\n",
            "Epoch 5, Step 0, Loss: 0.658462643623352\n",
            "Epoch 5, Step 20, Loss: 0.5720192790031433\n",
            "Epoch 5, Step 40, Loss: 0.5180073380470276\n",
            "Epoch 5, Step 60, Loss: 0.5321866869926453\n",
            "Epoch 5, Step 80, Loss: 0.4288257956504822\n",
            "Epoch 5, Step 100, Loss: 0.3005096912384033\n",
            "Epoch 5, Step 120, Loss: 0.4635401964187622\n",
            "Epoch 5 completed in 28.29 seconds\n",
            "Epoch 6, Step 0, Loss: 0.5304989814758301\n",
            "Epoch 6, Step 20, Loss: 0.6070617437362671\n",
            "Epoch 6, Step 40, Loss: 0.5523509979248047\n",
            "Epoch 6, Step 60, Loss: 0.42539912462234497\n",
            "Epoch 6, Step 80, Loss: 0.4666789472103119\n",
            "Epoch 6, Step 100, Loss: 0.44197168946266174\n",
            "Epoch 6, Step 120, Loss: 0.5565447807312012\n",
            "Epoch 6 completed in 28.27 seconds\n",
            "Epoch 7, Step 0, Loss: 0.46719270944595337\n",
            "Epoch 7, Step 20, Loss: 0.46151772141456604\n",
            "Epoch 7, Step 40, Loss: 0.4032125473022461\n",
            "Epoch 7, Step 60, Loss: 0.5898865461349487\n",
            "Epoch 7, Step 80, Loss: 0.42313337326049805\n",
            "Epoch 7, Step 100, Loss: 0.660914421081543\n",
            "Epoch 7, Step 120, Loss: 0.4340303838253021\n",
            "Epoch 7 completed in 28.35 seconds\n",
            "Epoch 8, Step 0, Loss: 0.7317952513694763\n",
            "Epoch 8, Step 20, Loss: 0.2711285650730133\n",
            "Epoch 8, Step 40, Loss: 0.484700083732605\n",
            "Epoch 8, Step 60, Loss: 0.48135867714881897\n",
            "Epoch 8, Step 80, Loss: 0.28499114513397217\n",
            "Epoch 8, Step 100, Loss: 0.30353492498397827\n",
            "Epoch 8, Step 120, Loss: 0.3144981563091278\n",
            "Epoch 8 completed in 28.33 seconds\n",
            "Epoch 9, Step 0, Loss: 0.4078659415245056\n",
            "Epoch 9, Step 20, Loss: 0.22937798500061035\n",
            "Epoch 9, Step 40, Loss: 0.3334104120731354\n",
            "Epoch 9, Step 60, Loss: 0.28683581948280334\n",
            "Epoch 9, Step 80, Loss: 0.26396632194519043\n",
            "Epoch 9, Step 100, Loss: 0.23787860572338104\n",
            "Epoch 9, Step 120, Loss: 0.2032645344734192\n",
            "Epoch 9 completed in 28.19 seconds\n"
          ]
        }
      ],
      "source": [
        "# Run training and evaluation\n",
        "train_model(model, train_loader)\n"
      ]
    },
    {
      "cell_type": "code",
      "execution_count": 17,
      "metadata": {
        "colab": {
          "base_uri": "https://localhost:8080/"
        },
        "id": "s2-4ZSYsEofy",
        "outputId": "ef302929-59ad-4aa6-b542-f92cf8f1c312"
      },
      "outputs": [
        {
          "name": "stdout",
          "output_type": "stream",
          "text": [
            "Accuracy on the test set: 64.93%\n"
          ]
        }
      ],
      "source": [
        "evaluate_model(model, test_loader)"
      ]
    }
  ],
  "metadata": {
    "accelerator": "GPU",
    "colab": {
      "gpuType": "L4",
      "provenance": []
    },
    "kernelspec": {
      "display_name": "Python 3",
      "name": "python3"
    },
    "language_info": {
      "name": "python"
    }
  },
  "nbformat": 4,
  "nbformat_minor": 0
}
