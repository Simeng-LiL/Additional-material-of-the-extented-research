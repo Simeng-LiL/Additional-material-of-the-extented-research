{
  "cells": [
    {
      "cell_type": "code",
      "execution_count": 40,
      "metadata": {
        "colab": {
          "base_uri": "https://localhost:8080/"
        },
        "id": "ow2oM_NYc8bo",
        "outputId": "3934b0b4-18e4-46b2-b1b2-a49baaf94c4d"
      },
      "outputs": [
        {
          "name": "stdout",
          "output_type": "stream",
          "text": [
            "Drive already mounted at /content/drive; to attempt to forcibly remount, call drive.mount(\"/content/drive\", force_remount=True).\n"
          ]
        }
      ],
      "source": [
        "from google.colab import drive\n",
        "drive.mount('/content/drive')"
      ]
    },
    {
      "cell_type": "code",
      "execution_count": 53,
      "metadata": {
        "id": "EfzTUgyngvbi"
      },
      "outputs": [],
      "source": [
        "import os\n",
        "import torch\n",
        "import torchvision\n",
        "from torchvision import datasets, models, transforms\n",
        "from torch.utils.data import DataLoader, random_split\n",
        "from torch import nn, optim\n",
        "import time"
      ]
    },
    {
      "cell_type": "code",
      "execution_count": 54,
      "metadata": {
        "id": "Q7RDcHP1uSBO"
      },
      "outputs": [],
      "source": [
        "# Set the device\n",
        "device = torch.device(\"cuda\" if torch.cuda.is_available() else \"cpu\")\n",
        "\n",
        "# Path to the dataset\n",
        "data_dir = '/content/drive/MyDrive/JPEGImages'\n",
        "\n",
        "# Define transforms\n",
        "transform = transforms.Compose([\n",
        "    transforms.Resize((224, 224)),\n",
        "    transforms.ToTensor(),\n",
        "    transforms.Normalize([0.485, 0.456, 0.406], [0.229, 0.224, 0.225])  # Normalization for ResNet\n",
        "])\n",
        "\n",
        "# Load the dataset\n",
        "dataset = datasets.ImageFolder(root=data_dir, transform=transform)\n",
        "\n",
        "# Split the dataset into train and validation sets\n",
        "train_size = int(0.8 * len(dataset))\n",
        "val_size = len(dataset) - train_size\n",
        "train_dataset, val_dataset = random_split(dataset, [train_size, val_size])\n",
        "\n",
        "# Data loaders\n",
        "batch_size = 64\n",
        "train_loader = DataLoader(train_dataset, batch_size=batch_size, shuffle=True, num_workers=4, pin_memory=True)\n",
        "val_loader = DataLoader(val_dataset, batch_size=batch_size, shuffle=False, num_workers=4, pin_memory=True)\n"
      ]
    },
    {
      "cell_type": "code",
      "execution_count": 55,
      "metadata": {
        "colab": {
          "base_uri": "https://localhost:8080/"
        },
        "id": "eHCE2uRYvo6x",
        "outputId": "631e94ad-f753-4e12-fa90-ab4ac9ed6de3"
      },
      "outputs": [
        {
          "name": "stderr",
          "output_type": "stream",
          "text": [
            "/usr/local/lib/python3.10/dist-packages/torchvision/models/_utils.py:208: UserWarning: The parameter 'pretrained' is deprecated since 0.13 and may be removed in the future, please use 'weights' instead.\n",
            "  warnings.warn(\n",
            "/usr/local/lib/python3.10/dist-packages/torchvision/models/_utils.py:223: UserWarning: Arguments other than a weight enum or `None` for 'weights' are deprecated since 0.13 and may be removed in the future. The current behavior is equivalent to passing `weights=ResNet50_Weights.IMAGENET1K_V1`. You can also use `weights=ResNet50_Weights.DEFAULT` to get the most up-to-date weights.\n",
            "  warnings.warn(msg)\n"
          ]
        }
      ],
      "source": [
        "# Load a pretrained ResNet model\n",
        "model = models.resnet50(pretrained=True)\n",
        "for param in model.parameters():\n",
        "    param.requires_grad = False  # Freeze all layers\n",
        "\n",
        "# Replace the last layer to fit our number of classes\n",
        "num_ftrs = model.fc.in_features\n",
        "model.fc = nn.Linear(num_ftrs, 50)  # Adjusting the final layer for 50 classes\n",
        "model = model.to(device)\n",
        "\n",
        "# Loss and optimizer\n",
        "criterion = nn.CrossEntropyLoss()\n",
        "optimizer = optim.Adam(model.fc.parameters(), lr=0.001)  # Train only the last layer\n"
      ]
    },
    {
      "cell_type": "code",
      "execution_count": 60,
      "metadata": {
        "id": "cptUv5llueOb"
      },
      "outputs": [],
      "source": [
        "def validate_model():\n",
        "    model.eval()  # Set the model to evaluation mode\n",
        "    val_loss = 0.0\n",
        "    total_correct = 0\n",
        "    total_images = 0\n",
        "    with torch.no_grad():  # No gradients needed\n",
        "        for inputs, labels in val_loader:\n",
        "            inputs, labels = inputs.to(device), labels.to(device)\n",
        "            outputs = model(inputs)\n",
        "            loss = criterion(outputs, labels)\n",
        "            val_loss += loss.item()\n",
        "\n",
        "            _, predicted = torch.max(outputs, 1)\n",
        "            total_correct += (predicted == labels).sum().item()\n",
        "            total_images += labels.size(0)\n",
        "\n",
        "    avg_loss = val_loss / len(val_loader)\n",
        "    accuracy = total_correct / total_images * 100\n",
        "    print(f'Validation Loss: {avg_loss:.4f}, Validation Accuracy: {accuracy:.2f}%')\n"
      ]
    },
    {
      "cell_type": "code",
      "execution_count": 61,
      "metadata": {
        "id": "7E211YSsudng"
      },
      "outputs": [],
      "source": [
        "# Training and validation function\n",
        "def train_model(num_epochs):\n",
        "    for epoch in range(num_epochs):\n",
        "        model.train()  # Set model to training mode\n",
        "        running_loss = 0.0\n",
        "        start_time = time.time()\n",
        "\n",
        "        for i, (inputs, labels) in enumerate(train_loader):\n",
        "            inputs, labels = inputs.to(device), labels.to(device)\n",
        "\n",
        "            # Zero the parameter gradients\n",
        "            optimizer.zero_grad()\n",
        "\n",
        "            # Forward + backward + optimize\n",
        "            outputs = model(inputs)\n",
        "            loss = criterion(outputs, labels)\n",
        "            loss.backward()\n",
        "            optimizer.step()\n",
        "\n",
        "            running_loss += loss.item()\n",
        "\n",
        "            if (i + 1) % 20 == 0:\n",
        "                print(f'Epoch {epoch + 1}, Batch {i + 1}, Loss: {running_loss / 20:.4f}')\n",
        "                running_loss = 0.0\n",
        "\n",
        "        # Timing each epoch\n",
        "        epoch_time = time.time() - start_time\n",
        "        print(f'Training time for epoch {epoch + 1}: {epoch_time:.2f} sec')\n",
        "\n",
        "        # Validate after each epoch\n",
        "        validate_model()\n"
      ]
    },
    {
      "cell_type": "code",
      "execution_count": 62,
      "metadata": {
        "colab": {
          "base_uri": "https://localhost:8080/"
        },
        "id": "AbcCM4LKkQBb",
        "outputId": "e5c4d93f-894f-4d21-8c0d-cd49f30014f3"
      },
      "outputs": [
        {
          "name": "stdout",
          "output_type": "stream",
          "text": [
            "Epoch 1, Batch 20, Loss: 0.0756\n",
            "Epoch 1, Batch 40, Loss: 0.0849\n",
            "Epoch 1, Batch 60, Loss: 0.0968\n",
            "Epoch 1, Batch 80, Loss: 0.0926\n",
            "Epoch 1, Batch 100, Loss: 0.0925\n",
            "Epoch 1, Batch 120, Loss: 0.0806\n",
            "Training time for epoch 1: 39.00 sec\n",
            "Validation Loss: 0.3080, Validation Accuracy: 90.92%\n",
            "Epoch 2, Batch 20, Loss: 0.0948\n",
            "Epoch 2, Batch 40, Loss: 0.0732\n",
            "Epoch 2, Batch 60, Loss: 0.0884\n",
            "Epoch 2, Batch 80, Loss: 0.1067\n",
            "Epoch 2, Batch 100, Loss: 0.0839\n",
            "Epoch 2, Batch 120, Loss: 0.0837\n",
            "Training time for epoch 2: 38.95 sec\n",
            "Validation Loss: 0.2879, Validation Accuracy: 91.69%\n",
            "Epoch 3, Batch 20, Loss: 0.0767\n",
            "Epoch 3, Batch 40, Loss: 0.0798\n",
            "Epoch 3, Batch 60, Loss: 0.0647\n",
            "Epoch 3, Batch 80, Loss: 0.0606\n",
            "Epoch 3, Batch 100, Loss: 0.0780\n",
            "Epoch 3, Batch 120, Loss: 0.0793\n",
            "Training time for epoch 3: 38.91 sec\n",
            "Validation Loss: 0.3025, Validation Accuracy: 91.60%\n",
            "Epoch 4, Batch 20, Loss: 0.0762\n",
            "Epoch 4, Batch 40, Loss: 0.0743\n",
            "Epoch 4, Batch 60, Loss: 0.0643\n",
            "Epoch 4, Batch 80, Loss: 0.0680\n",
            "Epoch 4, Batch 100, Loss: 0.0667\n",
            "Epoch 4, Batch 120, Loss: 0.0610\n",
            "Training time for epoch 4: 39.14 sec\n",
            "Validation Loss: 0.2823, Validation Accuracy: 91.69%\n",
            "Epoch 5, Batch 20, Loss: 0.0568\n",
            "Epoch 5, Batch 40, Loss: 0.0678\n",
            "Epoch 5, Batch 60, Loss: 0.0643\n",
            "Epoch 5, Batch 80, Loss: 0.0646\n",
            "Epoch 5, Batch 100, Loss: 0.0706\n",
            "Epoch 5, Batch 120, Loss: 0.0738\n",
            "Training time for epoch 5: 38.89 sec\n",
            "Validation Loss: 0.3077, Validation Accuracy: 91.21%\n",
            "Epoch 6, Batch 20, Loss: 0.0510\n",
            "Epoch 6, Batch 40, Loss: 0.0572\n",
            "Epoch 6, Batch 60, Loss: 0.0628\n",
            "Epoch 6, Batch 80, Loss: 0.0660\n",
            "Epoch 6, Batch 100, Loss: 0.0752\n",
            "Epoch 6, Batch 120, Loss: 0.0648\n",
            "Training time for epoch 6: 39.17 sec\n",
            "Validation Loss: 0.3014, Validation Accuracy: 91.11%\n",
            "Epoch 7, Batch 20, Loss: 0.0489\n",
            "Epoch 7, Batch 40, Loss: 0.0528\n",
            "Epoch 7, Batch 60, Loss: 0.0670\n",
            "Epoch 7, Batch 80, Loss: 0.0597\n",
            "Epoch 7, Batch 100, Loss: 0.0521\n",
            "Epoch 7, Batch 120, Loss: 0.0528\n",
            "Training time for epoch 7: 39.15 sec\n",
            "Validation Loss: 0.3168, Validation Accuracy: 91.55%\n",
            "Epoch 8, Batch 20, Loss: 0.0568\n",
            "Epoch 8, Batch 40, Loss: 0.0475\n",
            "Epoch 8, Batch 60, Loss: 0.0494\n",
            "Epoch 8, Batch 80, Loss: 0.0575\n",
            "Epoch 8, Batch 100, Loss: 0.0552\n",
            "Epoch 8, Batch 120, Loss: 0.0583\n",
            "Training time for epoch 8: 38.97 sec\n",
            "Validation Loss: 0.3289, Validation Accuracy: 90.97%\n",
            "Epoch 9, Batch 20, Loss: 0.0464\n",
            "Epoch 9, Batch 40, Loss: 0.0478\n",
            "Epoch 9, Batch 60, Loss: 0.0533\n",
            "Epoch 9, Batch 80, Loss: 0.0475\n",
            "Epoch 9, Batch 100, Loss: 0.0524\n",
            "Epoch 9, Batch 120, Loss: 0.0635\n",
            "Training time for epoch 9: 38.77 sec\n",
            "Validation Loss: 0.3122, Validation Accuracy: 91.26%\n",
            "Epoch 10, Batch 20, Loss: 0.0424\n",
            "Epoch 10, Batch 40, Loss: 0.0518\n",
            "Epoch 10, Batch 60, Loss: 0.0465\n",
            "Epoch 10, Batch 80, Loss: 0.0464\n",
            "Epoch 10, Batch 100, Loss: 0.0535\n",
            "Epoch 10, Batch 120, Loss: 0.0443\n",
            "Training time for epoch 10: 39.02 sec\n",
            "Validation Loss: 0.3018, Validation Accuracy: 91.84%\n"
          ]
        }
      ],
      "source": [
        "\n",
        "# Train the model\n",
        "train_model(num_epochs=10)  # You can adjust the number of epochs\n"
      ]
    }
  ],
  "metadata": {
    "accelerator": "GPU",
    "colab": {
      "gpuType": "L4",
      "provenance": []
    },
    "kernelspec": {
      "display_name": "Python 3",
      "name": "python3"
    },
    "language_info": {
      "name": "python"
    }
  },
  "nbformat": 4,
  "nbformat_minor": 0
}
