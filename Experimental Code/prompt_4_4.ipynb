{
  "cells": [
    {
      "cell_type": "code",
      "execution_count": 1,
      "metadata": {
        "colab": {
          "base_uri": "https://localhost:8080/"
        },
        "id": "8dqAXNHw4m2X",
        "outputId": "a4d3b6c8-6fa2-48f9-8392-8cb40ae4b48a"
      },
      "outputs": [
        {
          "name": "stdout",
          "output_type": "stream",
          "text": [
            "Mounted at /content/drive\n"
          ]
        }
      ],
      "source": [
        "from google.colab import drive\n",
        "drive.mount('/content/drive')"
      ]
    },
    {
      "cell_type": "code",
      "execution_count": 33,
      "metadata": {
        "id": "tv2GNRNk4NjR"
      },
      "outputs": [],
      "source": [
        "import torch\n",
        "import torchvision\n",
        "from torchvision import transforms, models, datasets\n",
        "from torch.utils.data import DataLoader, WeightedRandomSampler, Subset\n",
        "import numpy as np\n",
        "import time\n"
      ]
    },
    {
      "cell_type": "code",
      "execution_count": 34,
      "metadata": {
        "id": "icakLSqPZ26c"
      },
      "outputs": [],
      "source": [
        "# Path to the folder containing images\n",
        "data_dir = '/content/drive/MyDrive/JPEGImages'\n",
        "\n",
        "# Data transformations\n",
        "train_transforms = transforms.Compose([\n",
        "    transforms.Resize((224, 224)),\n",
        "    transforms.RandomHorizontalFlip(),\n",
        "    transforms.RandomRotation(10),\n",
        "    transforms.ToTensor(),\n",
        "    transforms.Normalize(mean=[0.485, 0.456, 0.406], std=[0.229, 0.224, 0.225])\n",
        "])\n",
        "\n",
        "test_transforms = transforms.Compose([\n",
        "    transforms.Resize((224, 224)),\n",
        "    transforms.ToTensor(),\n",
        "    transforms.Normalize(mean=[0.485, 0.456, 0.406], std=[0.229, 0.224, 0.225])\n",
        "])\n",
        "\n",
        "# Loading datasets\n",
        "full_dataset = datasets.ImageFolder(root=data_dir)\n",
        "\n",
        "# Splitting dataset\n",
        "train_size = int(0.8 * len(full_dataset))\n",
        "test_size = len(full_dataset) - train_size\n",
        "train_dataset, test_dataset = torch.utils.data.random_split(full_dataset, [train_size, test_size])\n",
        "\n",
        "# Apply appropriate transforms to each dataset using Subset and setting transform post split\n",
        "train_dataset = Subset(full_dataset, train_dataset.indices)\n",
        "test_dataset = Subset(full_dataset, test_dataset.indices)\n",
        "\n",
        "# Manually apply transforms by wrapping the original datasets\n",
        "train_dataset.dataset = datasets.ImageFolder(root=data_dir, transform=train_transforms)\n",
        "test_dataset.dataset = datasets.ImageFolder(root=data_dir, transform=test_transforms)"
      ]
    },
    {
      "cell_type": "code",
      "execution_count": 35,
      "metadata": {
        "id": "-6JyZFdCZ5ws"
      },
      "outputs": [],
      "source": [
        "# Calculate class weights using tensor operations\n",
        "train_labels = torch.tensor([train_dataset.dataset.targets[i] for i in train_dataset.indices])\n",
        "class_counts = torch.bincount(train_labels, minlength=50)\n",
        "class_weights = 1.0 / (class_counts.float() + 1e-6)\n",
        "samples_weights = class_weights[train_labels]\n",
        "\n",
        "# Sampler\n",
        "sampler = WeightedRandomSampler(samples_weights, len(samples_weights), replacement=True)\n",
        "\n",
        "# Data loaders\n",
        "train_loader = DataLoader(train_dataset, batch_size=64, sampler=sampler, num_workers=8, pin_memory=True)\n",
        "test_loader = DataLoader(test_dataset, batch_size=64, num_workers=8, pin_memory=True)\n",
        "\n"
      ]
    },
    {
      "cell_type": "code",
      "execution_count": 36,
      "metadata": {
        "id": "JtdVJ0bPZ8WI"
      },
      "outputs": [],
      "source": [
        "# Model definition\n",
        "model = models.resnet50(pretrained=True)\n",
        "num_ftrs = model.fc.in_features\n",
        "model.fc = torch.nn.Sequential(\n",
        "    torch.nn.Linear(num_ftrs, 256),\n",
        "    torch.nn.BatchNorm1d(256),\n",
        "    torch.nn.ReLU(),\n",
        "    torch.nn.Dropout(0.5),\n",
        "    torch.nn.Linear(256, 50)\n",
        ")\n",
        "\n",
        "# Move model to GPU\n",
        "device = torch.device(\"cuda:0\" if torch.cuda.is_available() else \"cpu\")\n",
        "model.to(device)\n",
        "\n",
        "# Loss function and optimizer\n",
        "criterion = torch.nn.CrossEntropyLoss()\n",
        "optimizer = torch.optim.Adam(model.parameters(), lr=0.001)\n",
        "\n",
        "# Enable mixed precision training\n",
        "scaler = torch.cuda.amp.GradScaler()"
      ]
    },
    {
      "cell_type": "code",
      "execution_count": 37,
      "metadata": {
        "colab": {
          "base_uri": "https://localhost:8080/"
        },
        "id": "xLpwf9r84rK6",
        "outputId": "d1201627-23b5-4d0e-a031-6f0f41b4dd2a"
      },
      "outputs": [
        {
          "name": "stdout",
          "output_type": "stream",
          "text": [
            "Epoch 1, Step 20, Loss: 3.1625\n",
            "Epoch 1, Step 40, Loss: 2.6489\n",
            "Epoch 1, Step 60, Loss: 2.3343\n",
            "Epoch 1, Step 80, Loss: 2.0091\n",
            "Epoch 1, Step 100, Loss: 2.0103\n",
            "Epoch 1, Step 120, Loss: 1.9547\n",
            "Epoch 1 completed in 29.67 seconds\n",
            "Epoch 2, Step 20, Loss: 1.7472\n",
            "Epoch 2, Step 40, Loss: 1.6515\n",
            "Epoch 2, Step 60, Loss: 1.5972\n",
            "Epoch 2, Step 80, Loss: 1.5225\n",
            "Epoch 2, Step 100, Loss: 1.4502\n",
            "Epoch 2, Step 120, Loss: 1.4763\n",
            "Epoch 2 completed in 29.32 seconds\n",
            "Epoch 3, Step 20, Loss: 1.4679\n",
            "Epoch 3, Step 40, Loss: 1.3802\n",
            "Epoch 3, Step 60, Loss: 1.3436\n",
            "Epoch 3, Step 80, Loss: 1.2996\n",
            "Epoch 3, Step 100, Loss: 1.1877\n",
            "Epoch 3, Step 120, Loss: 1.2475\n",
            "Epoch 3 completed in 29.26 seconds\n",
            "Epoch 4, Step 20, Loss: 1.1979\n",
            "Epoch 4, Step 40, Loss: 1.0566\n",
            "Epoch 4, Step 60, Loss: 1.1205\n",
            "Epoch 4, Step 80, Loss: 0.9928\n",
            "Epoch 4, Step 100, Loss: 1.0228\n",
            "Epoch 4, Step 120, Loss: 1.0305\n",
            "Epoch 4 completed in 29.31 seconds\n",
            "Epoch 5, Step 20, Loss: 0.9772\n",
            "Epoch 5, Step 40, Loss: 0.9228\n",
            "Epoch 5, Step 60, Loss: 0.8997\n",
            "Epoch 5, Step 80, Loss: 0.9106\n",
            "Epoch 5, Step 100, Loss: 0.9416\n",
            "Epoch 5, Step 120, Loss: 0.9165\n",
            "Epoch 5 completed in 29.54 seconds\n",
            "Epoch 6, Step 20, Loss: 0.8827\n",
            "Epoch 6, Step 40, Loss: 0.7788\n",
            "Epoch 6, Step 60, Loss: 0.8189\n",
            "Epoch 6, Step 80, Loss: 0.8223\n",
            "Epoch 6, Step 100, Loss: 0.8132\n",
            "Epoch 6, Step 120, Loss: 0.7776\n",
            "Epoch 6 completed in 29.37 seconds\n",
            "Epoch 7, Step 20, Loss: 0.7827\n",
            "Epoch 7, Step 40, Loss: 0.6711\n",
            "Epoch 7, Step 60, Loss: 0.6661\n",
            "Epoch 7, Step 80, Loss: 0.7896\n",
            "Epoch 7, Step 100, Loss: 0.7096\n",
            "Epoch 7, Step 120, Loss: 0.7232\n",
            "Epoch 7 completed in 29.24 seconds\n",
            "Epoch 8, Step 20, Loss: 0.6613\n",
            "Epoch 8, Step 40, Loss: 0.6596\n",
            "Epoch 8, Step 60, Loss: 0.6426\n",
            "Epoch 8, Step 80, Loss: 0.5999\n",
            "Epoch 8, Step 100, Loss: 0.5157\n",
            "Epoch 8, Step 120, Loss: 0.5865\n",
            "Epoch 8 completed in 29.01 seconds\n",
            "Epoch 9, Step 20, Loss: 0.5615\n",
            "Epoch 9, Step 40, Loss: 0.5896\n",
            "Epoch 9, Step 60, Loss: 0.5579\n",
            "Epoch 9, Step 80, Loss: 0.5159\n",
            "Epoch 9, Step 100, Loss: 0.5009\n",
            "Epoch 9, Step 120, Loss: 0.4469\n",
            "Epoch 9 completed in 29.25 seconds\n",
            "Epoch 10, Step 20, Loss: 0.5177\n",
            "Epoch 10, Step 40, Loss: 0.5797\n",
            "Epoch 10, Step 60, Loss: 0.5368\n",
            "Epoch 10, Step 80, Loss: 0.5251\n",
            "Epoch 10, Step 100, Loss: 0.5342\n",
            "Epoch 10, Step 120, Loss: 0.5225\n",
            "Epoch 10 completed in 29.11 seconds\n"
          ]
        }
      ],
      "source": [
        "# Training loop\n",
        "for epoch in range(10):\n",
        "    start_time = time.time()  # Start time of the epoch\n",
        "    model.train()\n",
        "    running_loss = 0.0\n",
        "    for i, (inputs, labels) in enumerate(train_loader):\n",
        "        inputs, labels = inputs.to(device), labels.to(device)\n",
        "\n",
        "        optimizer.zero_grad()\n",
        "\n",
        "        with torch.cuda.amp.autocast():\n",
        "            outputs = model(inputs)\n",
        "            loss = criterion(outputs, labels)\n",
        "\n",
        "        scaler.scale(loss).backward()\n",
        "        scaler.step(optimizer)\n",
        "        scaler.update()\n",
        "\n",
        "        running_loss += loss.item()\n",
        "        if (i + 1) % 20 == 0:\n",
        "            print(f'Epoch {epoch + 1}, Step {i + 1}, Loss: {running_loss / 20:.4f}')\n",
        "            running_loss = 0.0\n",
        "\n",
        "    end_time = time.time()  # End time of the epoch\n",
        "    epoch_time = end_time - start_time  # Calculate the total time for the epoch\n",
        "    print(f'Epoch {epoch + 1} completed in {epoch_time:.2f} seconds')\n",
        "\n",
        "\n"
      ]
    },
    {
      "cell_type": "code",
      "execution_count": 38,
      "metadata": {
        "colab": {
          "base_uri": "https://localhost:8080/"
        },
        "id": "2tHY2lTgZ_fE",
        "outputId": "e4cff066-a53d-417f-d4bc-bb34aa1e45d1"
      },
      "outputs": [
        {
          "name": "stdout",
          "output_type": "stream",
          "text": [
            "Accuracy: 70.08% on the test dataset\n"
          ]
        }
      ],
      "source": [
        "# Evaluation\n",
        "model.eval()\n",
        "correct = 0\n",
        "total = 0\n",
        "with torch.no_grad():\n",
        "    for inputs, labels in test_loader:\n",
        "        inputs, labels = inputs.to(device), labels.to(device)\n",
        "        outputs = model(inputs)\n",
        "        _, predicted = torch.max(outputs.data, 1)\n",
        "        total += labels.size(0)\n",
        "        correct += (predicted == labels).sum().item()\n",
        "\n",
        "print(f'Accuracy: {100 * correct / total:.2f}% on the test dataset')\n",
        "\n"
      ]
    }
  ],
  "metadata": {
    "accelerator": "GPU",
    "colab": {
      "gpuType": "L4",
      "provenance": []
    },
    "kernelspec": {
      "display_name": "Python 3",
      "name": "python3"
    },
    "language_info": {
      "name": "python"
    }
  },
  "nbformat": 4,
  "nbformat_minor": 0
}
