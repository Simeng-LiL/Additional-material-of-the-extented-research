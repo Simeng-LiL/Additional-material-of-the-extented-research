{
  "cells": [
    {
      "cell_type": "code",
      "execution_count": 1,
      "metadata": {
        "colab": {
          "base_uri": "https://localhost:8080/"
        },
        "id": "8dqAXNHw4m2X",
        "outputId": "29c84355-f102-49a6-8156-e3d51c873bb5"
      },
      "outputs": [
        {
          "name": "stdout",
          "output_type": "stream",
          "text": [
            "Mounted at /content/drive\n"
          ]
        }
      ],
      "source": [
        "from google.colab import drive\n",
        "drive.mount('/content/drive')"
      ]
    },
    {
      "cell_type": "code",
      "execution_count": 15,
      "metadata": {
        "id": "tv2GNRNk4NjR"
      },
      "outputs": [],
      "source": [
        "import os\n",
        "import torch\n",
        "import torchvision\n",
        "import torchvision.transforms as transforms\n",
        "from torch.utils.data import DataLoader, random_split\n",
        "from torchvision import models, datasets\n",
        "from torch import nn, optim\n",
        "from torch.cuda.amp import GradScaler, autocast\n",
        "from sklearn.model_selection import train_test_split\n",
        "import numpy as np\n",
        "import time\n"
      ]
    },
    {
      "cell_type": "code",
      "execution_count": 16,
      "metadata": {
        "id": "xLpwf9r84rK6"
      },
      "outputs": [],
      "source": [
        "# Parameters\n",
        "base_dir = '/content/drive/MyDrive/JPEGImages'\n",
        "batch_size = 64\n",
        "num_workers = 8\n",
        "pin_memory = True if torch.cuda.is_available() else False\n",
        "num_epochs = 10\n",
        "test_size = 0.2\n",
        "random_seed = 42\n",
        "\n",
        "# Transformations\n",
        "transformations = transforms.Compose([\n",
        "    transforms.Resize((224, 224)),\n",
        "    transforms.RandomHorizontalFlip(),\n",
        "    transforms.RandomRotation(30),\n",
        "    transforms.ToTensor(),\n",
        "    transforms.Normalize(mean=[0.485, 0.456, 0.406], std=[0.229, 0.224, 0.225]),\n",
        "])\n",
        "\n",
        "# Load the dataset\n",
        "dataset = datasets.ImageFolder(base_dir, transform=transformations)"
      ]
    },
    {
      "cell_type": "code",
      "execution_count": 17,
      "metadata": {
        "id": "0YCP1-ZO4ygH"
      },
      "outputs": [],
      "source": [
        "# Splitting the dataset into train and validation sets\n",
        "total_count = len(dataset)\n",
        "test_count = int(total_count * test_size)\n",
        "train_count = total_count - test_count\n",
        "train_dataset, test_dataset = random_split(dataset, [train_count, test_count])\n",
        "\n",
        "# Create data loaders with increased num_workers and pin_memory\n",
        "train_loader = DataLoader(dataset=train_dataset, batch_size=batch_size, shuffle=True, num_workers=num_workers, pin_memory=pin_memory)\n",
        "test_loader = DataLoader(dataset=test_dataset, batch_size=batch_size, shuffle=False, num_workers=num_workers, pin_memory=pin_memory)"
      ]
    },
    {
      "cell_type": "code",
      "execution_count": 18,
      "metadata": {
        "colab": {
          "base_uri": "https://localhost:8080/"
        },
        "id": "GwcwWjQ040KS",
        "outputId": "abbb5eee-85f3-4f98-ebdd-e0c1e7248ef7"
      },
      "outputs": [
        {
          "name": "stderr",
          "output_type": "stream",
          "text": [
            "/usr/local/lib/python3.10/dist-packages/torchvision/models/_utils.py:208: UserWarning: The parameter 'pretrained' is deprecated since 0.13 and may be removed in the future, please use 'weights' instead.\n",
            "  warnings.warn(\n",
            "/usr/local/lib/python3.10/dist-packages/torchvision/models/_utils.py:223: UserWarning: Arguments other than a weight enum or `None` for 'weights' are deprecated since 0.13 and may be removed in the future. The current behavior is equivalent to passing `weights=ResNet50_Weights.IMAGENET1K_V1`. You can also use `weights=ResNet50_Weights.DEFAULT` to get the most up-to-date weights.\n",
            "  warnings.warn(msg)\n"
          ]
        }
      ],
      "source": [
        "# Model setup\n",
        "model = models.resnet50(pretrained=True)\n",
        "model.fc = nn.Linear(model.fc.in_features, 50)  # Adjust for the number of classes\n",
        "device='cuda' if torch.cuda.is_available() else 'cpu'\n",
        "model.to(device)\n",
        "\n",
        "# Loss and optimizer\n",
        "criterion = nn.CrossEntropyLoss()\n",
        "optimizer = optim.Adam(model.parameters(), lr=0.001)\n",
        "scheduler = optim.lr_scheduler.StepLR(optimizer, step_size=7, gamma=0.1)\n",
        "scaler = GradScaler()\n"
      ]
    },
    {
      "cell_type": "code",
      "execution_count": 19,
      "metadata": {
        "id": "OAt_uaM44_Go"
      },
      "outputs": [],
      "source": [
        "# Training and evaluation functions as defined previously\n",
        "\n",
        "# Training function\n",
        "def train_and_evaluate(model, train_loader, test_loader, criterion, optimizer, scheduler, scaler, num_epochs):\n",
        "    start_time = time.time()  # Start time\n",
        "    model.train()\n",
        "    for epoch in range(num_epochs):\n",
        "        for i, (inputs, labels) in enumerate(train_loader):\n",
        "            inputs, labels = inputs.to(device), labels.to(device)\n",
        "\n",
        "            with autocast():\n",
        "                outputs = model(inputs)\n",
        "                loss = criterion(outputs, labels)\n",
        "\n",
        "            optimizer.zero_grad()\n",
        "            scaler.scale(loss).backward()\n",
        "            scaler.step(optimizer)\n",
        "            scaler.update()\n",
        "\n",
        "            if (i + 1) % 20 == 0:\n",
        "                print(f'Epoch {epoch+1}, Step {i+1}, Loss: {loss.item():.4f}')\n",
        "\n",
        "        scheduler.step()\n",
        "\n",
        "    end_time = time.time()  # End time\n",
        "    total_time = end_time - start_time\n",
        "    print(f'Total training time is {total_time:.2f} seconds')\n",
        "\n",
        "    # Evaluation\n",
        "    model.eval()\n",
        "    correct = 0\n",
        "    total = 0\n",
        "    with torch.no_grad():\n",
        "        for inputs, labels in test_loader:\n",
        "            inputs, labels = inputs.to(device), labels.to(device)\n",
        "            outputs = model(inputs)\n",
        "            _, predicted = torch.max(outputs.data, 1)\n",
        "            total += labels.size(0)\n",
        "            correct += (predicted == labels).sum().item()\n",
        "\n",
        "    accuracy = 100 * correct / total\n",
        "    print(f'Accuracy on test set: {accuracy}%')\n",
        "\n",
        "\n"
      ]
    },
    {
      "cell_type": "code",
      "execution_count": 20,
      "metadata": {
        "colab": {
          "base_uri": "https://localhost:8080/"
        },
        "id": "468Wc3WK4-1U",
        "outputId": "5faf8f64-25a7-42a0-e0fa-28b4990de8ec"
      },
      "outputs": [
        {
          "name": "stdout",
          "output_type": "stream",
          "text": [
            "Epoch 1, Step 20, Loss: 2.4880\n",
            "Epoch 1, Step 40, Loss: 2.5202\n",
            "Epoch 1, Step 60, Loss: 1.8933\n",
            "Epoch 1, Step 80, Loss: 1.7236\n",
            "Epoch 1, Step 100, Loss: 1.9150\n",
            "Epoch 1, Step 120, Loss: 1.6164\n",
            "Epoch 2, Step 20, Loss: 1.6798\n",
            "Epoch 2, Step 40, Loss: 1.6901\n",
            "Epoch 2, Step 60, Loss: 1.7322\n",
            "Epoch 2, Step 80, Loss: 1.1315\n",
            "Epoch 2, Step 100, Loss: 1.4017\n",
            "Epoch 2, Step 120, Loss: 1.2431\n",
            "Epoch 3, Step 20, Loss: 1.2470\n",
            "Epoch 3, Step 40, Loss: 1.4630\n",
            "Epoch 3, Step 60, Loss: 1.3431\n",
            "Epoch 3, Step 80, Loss: 1.0082\n",
            "Epoch 3, Step 100, Loss: 1.2643\n",
            "Epoch 3, Step 120, Loss: 1.1583\n",
            "Epoch 4, Step 20, Loss: 0.7844\n",
            "Epoch 4, Step 40, Loss: 1.0242\n",
            "Epoch 4, Step 60, Loss: 0.8186\n",
            "Epoch 4, Step 80, Loss: 1.1498\n",
            "Epoch 4, Step 100, Loss: 1.1314\n",
            "Epoch 4, Step 120, Loss: 0.9672\n",
            "Epoch 5, Step 20, Loss: 0.7974\n",
            "Epoch 5, Step 40, Loss: 1.0652\n",
            "Epoch 5, Step 60, Loss: 0.9407\n",
            "Epoch 5, Step 80, Loss: 0.9256\n",
            "Epoch 5, Step 100, Loss: 0.7910\n",
            "Epoch 5, Step 120, Loss: 1.3149\n",
            "Epoch 6, Step 20, Loss: 0.8113\n",
            "Epoch 6, Step 40, Loss: 0.5964\n",
            "Epoch 6, Step 60, Loss: 0.8829\n",
            "Epoch 6, Step 80, Loss: 0.9120\n",
            "Epoch 6, Step 100, Loss: 1.0699\n",
            "Epoch 6, Step 120, Loss: 0.8269\n",
            "Epoch 7, Step 20, Loss: 0.8127\n",
            "Epoch 7, Step 40, Loss: 0.5703\n",
            "Epoch 7, Step 60, Loss: 0.6276\n",
            "Epoch 7, Step 80, Loss: 1.2283\n",
            "Epoch 7, Step 100, Loss: 0.5543\n",
            "Epoch 7, Step 120, Loss: 0.8292\n",
            "Epoch 8, Step 20, Loss: 0.4934\n",
            "Epoch 8, Step 40, Loss: 0.6224\n",
            "Epoch 8, Step 60, Loss: 0.3916\n",
            "Epoch 8, Step 80, Loss: 0.3041\n",
            "Epoch 8, Step 100, Loss: 0.2290\n",
            "Epoch 8, Step 120, Loss: 0.4369\n",
            "Epoch 9, Step 20, Loss: 0.2345\n",
            "Epoch 9, Step 40, Loss: 0.2272\n",
            "Epoch 9, Step 60, Loss: 0.5520\n",
            "Epoch 9, Step 80, Loss: 0.3069\n",
            "Epoch 9, Step 100, Loss: 0.1375\n",
            "Epoch 9, Step 120, Loss: 0.2524\n",
            "Epoch 10, Step 20, Loss: 0.4042\n",
            "Epoch 10, Step 40, Loss: 0.2072\n",
            "Epoch 10, Step 60, Loss: 0.2397\n",
            "Epoch 10, Step 80, Loss: 0.1887\n",
            "Epoch 10, Step 100, Loss: 0.2509\n",
            "Epoch 10, Step 120, Loss: 0.3292\n",
            "Total training time is 288.38 seconds\n",
            "Accuracy on test set: 81.4868804664723%\n"
          ]
        }
      ],
      "source": [
        "# Run training and evaluation\n",
        "train_and_evaluate(model, train_loader, test_loader, criterion, optimizer, scheduler, scaler, num_epochs)"
      ]
    }
  ],
  "metadata": {
    "accelerator": "GPU",
    "colab": {
      "gpuType": "L4",
      "provenance": []
    },
    "kernelspec": {
      "display_name": "Python 3",
      "name": "python3"
    },
    "language_info": {
      "name": "python"
    }
  },
  "nbformat": 4,
  "nbformat_minor": 0
}
