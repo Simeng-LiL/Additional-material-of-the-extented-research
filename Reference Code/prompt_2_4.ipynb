{
  "cells": [
    {
      "cell_type": "code",
      "execution_count": 1,
      "metadata": {
        "colab": {
          "base_uri": "https://localhost:8080/"
        },
        "id": "8dqAXNHw4m2X",
        "outputId": "a4d3b6c8-6fa2-48f9-8392-8cb40ae4b48a"
      },
      "outputs": [
        {
          "name": "stdout",
          "output_type": "stream",
          "text": [
            "Mounted at /content/drive\n"
          ]
        }
      ],
      "source": [
        "from google.colab import drive\n",
        "drive.mount('/content/drive')"
      ]
    },
    {
      "cell_type": "code",
      "execution_count": 17,
      "metadata": {
        "id": "tv2GNRNk4NjR"
      },
      "outputs": [],
      "source": [
        "import torch\n",
        "import torch.nn as nn\n",
        "import torch.optim as optim\n",
        "from torchvision import datasets, transforms, models\n",
        "from torch.utils.data import DataLoader, random_split\n",
        "import time"
      ]
    },
    {
      "cell_type": "code",
      "execution_count": 19,
      "metadata": {
        "id": "xLpwf9r84rK6"
      },
      "outputs": [],
      "source": [
        "# Set device\n",
        "device = torch.device('cuda' if torch.cuda.is_available() else 'cpu')\n",
        "\n",
        "# 1. Data Loading\n",
        "data_dir = '/content/drive/MyDrive/JPEGImages'\n",
        "transform = transforms.Compose([\n",
        "    transforms.Resize((224, 224)),  # Resize images\n",
        "    transforms.ToTensor(),          # Convert images to tensor\n",
        "    transforms.Normalize(mean=[0.485, 0.456, 0.406], std=[0.229, 0.224, 0.225])  # Normalize images\n",
        "])\n",
        "\n",
        "dataset = datasets.ImageFolder(root=data_dir, transform=transform)\n",
        "train_size = int(0.8 * len(dataset))\n",
        "test_size = len(dataset) - train_size\n",
        "train_dataset, test_dataset = random_split(dataset, [train_size, test_size])\n",
        "\n",
        "# 2. Data Preprocessing is included in the transforms.Compose\n"
      ]
    },
    {
      "cell_type": "code",
      "execution_count": 20,
      "metadata": {
        "id": "p-7fzvJhNGsF"
      },
      "outputs": [],
      "source": [
        "# 3. Model Definition\n",
        "model = models.resnet34(pretrained=True)\n",
        "num_ftrs = model.fc.in_features\n",
        "model.fc = nn.Linear(num_ftrs, 50)  # Adjust to 50 classes\n",
        "model = model.to(device)\n"
      ]
    },
    {
      "cell_type": "code",
      "execution_count": 21,
      "metadata": {
        "id": "0TDDCwWoNHO_"
      },
      "outputs": [],
      "source": [
        "# 4. Model Training with timing and periodic loss logging\n",
        "def train_model(model, train_loader, criterion, optimizer, num_epochs=10):\n",
        "    model.train()\n",
        "    for epoch in range(num_epochs):\n",
        "        start_time = time.time()\n",
        "        for i, (images, labels) in enumerate(train_loader):\n",
        "            images, labels = images.to(device), labels.to(device)\n",
        "            optimizer.zero_grad()\n",
        "            outputs = model(images)\n",
        "            loss = criterion(outputs, labels)\n",
        "            loss.backward()\n",
        "            optimizer.step()\n",
        "\n",
        "            if (i + 1) % 20 == 0:\n",
        "                print(f'Step {i+1}, Loss: {loss.item()}')\n",
        "\n",
        "        end_time = time.time()\n",
        "        print(f'Epoch {epoch+1} completed in {end_time - start_time:.2f} seconds')"
      ]
    },
    {
      "cell_type": "code",
      "execution_count": 22,
      "metadata": {
        "id": "468Wc3WK4-1U"
      },
      "outputs": [],
      "source": [
        "# 5. Model Evaluation\n",
        "def evaluate_model(model, test_loader):\n",
        "    model.eval()\n",
        "    correct = 0\n",
        "    total = 0\n",
        "    with torch.no_grad():\n",
        "        for images, labels in test_loader:\n",
        "            images, labels = images.to(device), labels.to(device)\n",
        "            outputs = model(images)\n",
        "            _, predicted = torch.max(outputs.data, 1)\n",
        "            total += labels.size(0)\n",
        "            correct += (predicted == labels).sum().item()\n",
        "    print(f'Accuracy: {100 * correct / total}%')\n"
      ]
    },
    {
      "cell_type": "code",
      "execution_count": 23,
      "metadata": {
        "colab": {
          "base_uri": "https://localhost:8080/"
        },
        "id": "iHA3TT9xNOV8",
        "outputId": "ffcdcab3-6d93-47f0-9636-3e075a4e482b"
      },
      "outputs": [
        {
          "name": "stdout",
          "output_type": "stream",
          "text": [
            "Step 20, Loss: 2.9951627254486084\n",
            "Step 40, Loss: 2.799605131149292\n",
            "Step 60, Loss: 2.391989231109619\n",
            "Step 80, Loss: 2.17104434967041\n",
            "Step 100, Loss: 2.395364284515381\n",
            "Step 120, Loss: 1.9272197484970093\n",
            "Step 140, Loss: 2.289379835128784\n",
            "Step 160, Loss: 1.6195214986801147\n",
            "Step 180, Loss: 1.6020917892456055\n",
            "Step 200, Loss: 1.7582021951675415\n",
            "Step 220, Loss: 1.8844441175460815\n",
            "Step 240, Loss: 1.9586910009384155\n",
            "Epoch 1 completed in 39.92 seconds\n",
            "Step 20, Loss: 1.5239369869232178\n",
            "Step 40, Loss: 1.4006084203720093\n",
            "Step 60, Loss: 1.592103123664856\n",
            "Step 80, Loss: 1.6024843454360962\n",
            "Step 100, Loss: 1.261006236076355\n",
            "Step 120, Loss: 1.4093478918075562\n",
            "Step 140, Loss: 1.229493260383606\n",
            "Step 160, Loss: 1.0211800336837769\n",
            "Step 180, Loss: 1.561867356300354\n",
            "Step 200, Loss: 0.829927921295166\n",
            "Step 220, Loss: 1.3483895063400269\n",
            "Step 240, Loss: 1.386629581451416\n",
            "Epoch 2 completed in 39.44 seconds\n",
            "Step 20, Loss: 0.9723162055015564\n",
            "Step 40, Loss: 0.5917725563049316\n",
            "Step 60, Loss: 0.9242250323295593\n",
            "Step 80, Loss: 0.8009570837020874\n",
            "Step 100, Loss: 1.17531418800354\n",
            "Step 120, Loss: 0.8122697472572327\n",
            "Step 140, Loss: 0.9163980484008789\n",
            "Step 160, Loss: 0.7343369722366333\n",
            "Step 180, Loss: 0.9781968593597412\n",
            "Step 200, Loss: 0.9433126449584961\n",
            "Step 220, Loss: 0.975274920463562\n",
            "Step 240, Loss: 0.7460547089576721\n",
            "Epoch 3 completed in 39.10 seconds\n",
            "Step 20, Loss: 0.7791087627410889\n",
            "Step 40, Loss: 0.4748600423336029\n",
            "Step 60, Loss: 0.44642505049705505\n",
            "Step 80, Loss: 0.609849214553833\n",
            "Step 100, Loss: 0.854814887046814\n",
            "Step 120, Loss: 0.5638406276702881\n",
            "Step 140, Loss: 0.6526340246200562\n",
            "Step 160, Loss: 0.771590530872345\n",
            "Step 180, Loss: 0.6141709089279175\n",
            "Step 200, Loss: 0.5146301984786987\n",
            "Step 220, Loss: 0.8201021552085876\n",
            "Step 240, Loss: 0.806646466255188\n",
            "Epoch 4 completed in 39.40 seconds\n",
            "Step 20, Loss: 0.7395660877227783\n",
            "Step 40, Loss: 0.6013086438179016\n",
            "Step 60, Loss: 0.6537611484527588\n",
            "Step 80, Loss: 0.5412483811378479\n",
            "Step 100, Loss: 0.7149773240089417\n",
            "Step 120, Loss: 0.33088284730911255\n",
            "Step 140, Loss: 0.6269451379776001\n",
            "Step 160, Loss: 0.6903215050697327\n",
            "Step 180, Loss: 0.5965620279312134\n",
            "Step 200, Loss: 0.441240519285202\n",
            "Step 220, Loss: 0.5624040365219116\n",
            "Step 240, Loss: 0.2926858365535736\n",
            "Epoch 5 completed in 39.01 seconds\n",
            "Step 20, Loss: 0.351259708404541\n",
            "Step 40, Loss: 0.328296959400177\n",
            "Step 60, Loss: 0.4818013310432434\n",
            "Step 80, Loss: 0.12440479546785355\n",
            "Step 100, Loss: 0.1278887391090393\n",
            "Step 120, Loss: 0.6464852094650269\n",
            "Step 140, Loss: 0.4590635895729065\n",
            "Step 160, Loss: 0.34267255663871765\n",
            "Step 180, Loss: 0.2994019389152527\n",
            "Step 200, Loss: 0.26925480365753174\n",
            "Step 220, Loss: 0.23407180607318878\n",
            "Step 240, Loss: 0.39346224069595337\n",
            "Epoch 6 completed in 38.95 seconds\n",
            "Step 20, Loss: 0.23081336915493011\n",
            "Step 40, Loss: 0.18867196142673492\n",
            "Step 60, Loss: 0.274250864982605\n",
            "Step 80, Loss: 0.24654124677181244\n",
            "Step 100, Loss: 0.20934388041496277\n",
            "Step 120, Loss: 0.4332777261734009\n",
            "Step 140, Loss: 0.186689093708992\n",
            "Step 160, Loss: 0.27880391478538513\n",
            "Step 180, Loss: 0.2756948471069336\n",
            "Step 200, Loss: 0.3789478540420532\n",
            "Step 220, Loss: 0.6982714533805847\n",
            "Step 240, Loss: 0.6720011234283447\n",
            "Epoch 7 completed in 39.22 seconds\n",
            "Step 20, Loss: 0.2009153664112091\n",
            "Step 40, Loss: 0.3958621025085449\n",
            "Step 60, Loss: 0.09438793361186981\n",
            "Step 80, Loss: 0.2659369707107544\n",
            "Step 100, Loss: 0.05373550206422806\n",
            "Step 120, Loss: 0.27993279695510864\n",
            "Step 140, Loss: 0.22188621759414673\n",
            "Step 160, Loss: 0.17572902143001556\n",
            "Step 180, Loss: 0.3209865689277649\n",
            "Step 200, Loss: 0.3335041403770447\n",
            "Step 220, Loss: 0.6332361102104187\n",
            "Step 240, Loss: 0.3063802719116211\n",
            "Epoch 8 completed in 38.98 seconds\n",
            "Step 20, Loss: 0.49104994535446167\n",
            "Step 40, Loss: 0.28852152824401855\n",
            "Step 60, Loss: 0.2366047352552414\n",
            "Step 80, Loss: 0.06276416778564453\n",
            "Step 100, Loss: 0.22097334265708923\n",
            "Step 120, Loss: 0.08900310844182968\n",
            "Step 140, Loss: 0.2742921710014343\n",
            "Step 160, Loss: 0.18241026997566223\n",
            "Step 180, Loss: 0.16706207394599915\n",
            "Step 200, Loss: 0.23000089824199677\n",
            "Step 220, Loss: 0.0978115126490593\n",
            "Step 240, Loss: 0.28572025895118713\n",
            "Epoch 9 completed in 39.31 seconds\n",
            "Step 20, Loss: 0.22323231399059296\n",
            "Step 40, Loss: 0.05439962074160576\n",
            "Step 60, Loss: 0.11377273499965668\n",
            "Step 80, Loss: 0.3288782835006714\n",
            "Step 100, Loss: 0.09146317094564438\n",
            "Step 120, Loss: 0.12953604757785797\n",
            "Step 140, Loss: 0.30129024386405945\n",
            "Step 160, Loss: 0.27945148944854736\n",
            "Step 180, Loss: 0.37422415614128113\n",
            "Step 200, Loss: 0.551864743232727\n",
            "Step 220, Loss: 0.26785123348236084\n",
            "Step 240, Loss: 0.40478095412254333\n",
            "Epoch 10 completed in 39.19 seconds\n",
            "Accuracy: 64.69159786304031%\n"
          ]
        }
      ],
      "source": [
        "# Hyperparameters and loaders\n",
        "batch_size = 32\n",
        "train_loader = DataLoader(train_dataset, batch_size=batch_size, shuffle=True, num_workers=4)\n",
        "test_loader = DataLoader(test_dataset, batch_size=batch_size, shuffle=False, num_workers=4)\n",
        "criterion = nn.CrossEntropyLoss()\n",
        "optimizer = optim.Adam(model.parameters(), lr=0.001)\n",
        "\n",
        "# Train and evaluate\n",
        "train_model(model, train_loader, criterion, optimizer, num_epochs=10)\n",
        "evaluate_model(model, test_loader)"
      ]
    }
  ],
  "metadata": {
    "accelerator": "GPU",
    "colab": {
      "gpuType": "L4",
      "provenance": []
    },
    "kernelspec": {
      "display_name": "Python 3",
      "name": "python3"
    },
    "language_info": {
      "name": "python"
    }
  },
  "nbformat": 4,
  "nbformat_minor": 0
}
