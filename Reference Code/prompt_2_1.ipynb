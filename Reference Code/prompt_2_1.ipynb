{
  "cells": [
    {
      "cell_type": "code",
      "execution_count": 1,
      "metadata": {
        "colab": {
          "base_uri": "https://localhost:8080/"
        },
        "id": "8dqAXNHw4m2X",
        "outputId": "29c84355-f102-49a6-8156-e3d51c873bb5"
      },
      "outputs": [
        {
          "name": "stdout",
          "output_type": "stream",
          "text": [
            "Mounted at /content/drive\n"
          ]
        }
      ],
      "source": [
        "from google.colab import drive\n",
        "drive.mount('/content/drive')"
      ]
    },
    {
      "cell_type": "code",
      "execution_count": 2,
      "metadata": {
        "id": "tv2GNRNk4NjR"
      },
      "outputs": [],
      "source": [
        "import torch\n",
        "import torchvision\n",
        "import torchvision.transforms as transforms\n",
        "from torch.utils.data import DataLoader, random_split\n",
        "from torchvision.datasets import ImageFolder\n",
        "import torch.nn as nn\n",
        "import torch.optim as optim\n",
        "from torch.cuda.amp import GradScaler, autocast\n",
        "import matplotlib.pyplot as plt\n",
        "import time\n"
      ]
    },
    {
      "cell_type": "code",
      "execution_count": 3,
      "metadata": {
        "id": "xLpwf9r84rK6"
      },
      "outputs": [],
      "source": [
        "# Data loading\n",
        "def load_data(data_dir, batch_size, num_workers):\n",
        "    transform = transforms.Compose([\n",
        "        transforms.Resize((224, 224)),\n",
        "        transforms.ToTensor(),\n",
        "        transforms.Normalize(mean=[0.485, 0.456, 0.406], std=[0.229, 0.224, 0.225])\n",
        "    ])\n",
        "    dataset = ImageFolder(root=data_dir, transform=transform)\n",
        "    train_size = int(0.8 * len(dataset))\n",
        "    test_size = len(dataset) - train_size\n",
        "    train_dataset, test_dataset = random_split(dataset, [train_size, test_size])\n",
        "\n",
        "    train_loader = DataLoader(train_dataset, batch_size=batch_size, shuffle=True, num_workers=num_workers)\n",
        "    test_loader = DataLoader(test_dataset, batch_size=batch_size, shuffle=False, num_workers=num_workers)\n",
        "\n",
        "    return train_loader, test_loader"
      ]
    },
    {
      "cell_type": "code",
      "execution_count": 4,
      "metadata": {
        "id": "0YCP1-ZO4ygH"
      },
      "outputs": [],
      "source": [
        "# Model definition\n",
        "class AnimalClassifier(nn.Module):\n",
        "    def __init__(self):\n",
        "        super(AnimalClassifier, self).__init__()\n",
        "        self.model = torchvision.models.resnet50(pretrained=True)\n",
        "        self.model.fc = nn.Linear(self.model.fc.in_features, 50)  # Adjusting the final layer for 50 classes\n",
        "\n",
        "    def forward(self, x):\n",
        "        return self.model(x)"
      ]
    },
    {
      "cell_type": "code",
      "execution_count": 5,
      "metadata": {
        "id": "GwcwWjQ040KS"
      },
      "outputs": [],
      "source": [
        "# Model training\n",
        "def train_model(model, dataloader, optimizer, criterion, device, epochs):\n",
        "    model.train()\n",
        "    scaler = GradScaler()\n",
        "    start_time = time.time()\n",
        "\n",
        "    for epoch in range(epochs):\n",
        "        for i, (images, labels) in enumerate(dataloader):\n",
        "            images, labels = images.to(device), labels.to(device)\n",
        "            optimizer.zero_grad()\n",
        "\n",
        "            with autocast():\n",
        "                outputs = model(images)\n",
        "                loss = criterion(outputs, labels)\n",
        "\n",
        "            scaler.scale(loss).backward()\n",
        "            scaler.step(optimizer)\n",
        "            scaler.update()\n",
        "\n",
        "            # Print the loss every 20 steps\n",
        "            if (i + 1) % 20 == 0:\n",
        "                print(f\"Epoch [{epoch+1}/{epochs}], Step [{i+1}/{len(dataloader)}], Loss: {loss.item():.4f}\")\n",
        "\n",
        "    end_time = time.time()\n",
        "    training_time = end_time - start_time\n",
        "    print(f\"Training completed in {training_time:.2f} seconds\")\n"
      ]
    },
    {
      "cell_type": "code",
      "execution_count": 6,
      "metadata": {
        "id": "OAt_uaM44_Go"
      },
      "outputs": [],
      "source": [
        "# Model evaluation\n",
        "def evaluate_model(model, dataloader, device):\n",
        "    model.eval()\n",
        "    correct = 0\n",
        "    total = 0\n",
        "    with torch.no_grad():\n",
        "        for images, labels in dataloader:\n",
        "            images, labels = images.to(device), labels.to(device)\n",
        "            outputs = model(images)\n",
        "            _, predicted = torch.max(outputs.data, 1)\n",
        "            total += labels.size(0)\n",
        "            correct += (predicted == labels).sum().item()\n",
        "    accuracy = 100 * correct / total\n",
        "    print(f'Accuracy: {accuracy}%')\n",
        "    return accuracy"
      ]
    },
    {
      "cell_type": "code",
      "execution_count": 7,
      "metadata": {
        "colab": {
          "base_uri": "https://localhost:8080/"
        },
        "id": "468Wc3WK4-1U",
        "outputId": "72376cb9-ac6a-4eec-d57d-7792bff568e2"
      },
      "outputs": [
        {
          "name": "stderr",
          "output_type": "stream",
          "text": [
            "/usr/local/lib/python3.10/dist-packages/torchvision/models/_utils.py:208: UserWarning: The parameter 'pretrained' is deprecated since 0.13 and may be removed in the future, please use 'weights' instead.\n",
            "  warnings.warn(\n",
            "/usr/local/lib/python3.10/dist-packages/torchvision/models/_utils.py:223: UserWarning: Arguments other than a weight enum or `None` for 'weights' are deprecated since 0.13 and may be removed in the future. The current behavior is equivalent to passing `weights=ResNet50_Weights.IMAGENET1K_V1`. You can also use `weights=ResNet50_Weights.DEFAULT` to get the most up-to-date weights.\n",
            "  warnings.warn(msg)\n",
            "Downloading: \"https://download.pytorch.org/models/resnet50-0676ba61.pth\" to /root/.cache/torch/hub/checkpoints/resnet50-0676ba61.pth\n",
            "100%|██████████| 97.8M/97.8M [00:00<00:00, 202MB/s]\n"
          ]
        },
        {
          "name": "stdout",
          "output_type": "stream",
          "text": [
            "Epoch [1/10], Step [20/129], Loss: 1.9599\n",
            "Epoch [1/10], Step [40/129], Loss: 2.2884\n",
            "Epoch [1/10], Step [60/129], Loss: 1.6255\n",
            "Epoch [1/10], Step [80/129], Loss: 1.7584\n",
            "Epoch [1/10], Step [100/129], Loss: 1.6858\n",
            "Epoch [1/10], Step [120/129], Loss: 1.2583\n",
            "Epoch [2/10], Step [20/129], Loss: 1.3293\n",
            "Epoch [2/10], Step [40/129], Loss: 1.3817\n",
            "Epoch [2/10], Step [60/129], Loss: 1.1013\n",
            "Epoch [2/10], Step [80/129], Loss: 1.4492\n",
            "Epoch [2/10], Step [100/129], Loss: 1.2861\n",
            "Epoch [2/10], Step [120/129], Loss: 0.8878\n",
            "Epoch [3/10], Step [20/129], Loss: 0.8861\n",
            "Epoch [3/10], Step [40/129], Loss: 0.9240\n",
            "Epoch [3/10], Step [60/129], Loss: 0.9457\n",
            "Epoch [3/10], Step [80/129], Loss: 0.8526\n",
            "Epoch [3/10], Step [100/129], Loss: 1.0237\n",
            "Epoch [3/10], Step [120/129], Loss: 0.7340\n",
            "Epoch [4/10], Step [20/129], Loss: 0.5977\n",
            "Epoch [4/10], Step [40/129], Loss: 0.4394\n",
            "Epoch [4/10], Step [60/129], Loss: 0.5436\n",
            "Epoch [4/10], Step [80/129], Loss: 0.7212\n",
            "Epoch [4/10], Step [100/129], Loss: 0.7402\n",
            "Epoch [4/10], Step [120/129], Loss: 0.5650\n",
            "Epoch [5/10], Step [20/129], Loss: 0.3004\n",
            "Epoch [5/10], Step [40/129], Loss: 0.5957\n",
            "Epoch [5/10], Step [60/129], Loss: 0.6788\n",
            "Epoch [5/10], Step [80/129], Loss: 0.6017\n",
            "Epoch [5/10], Step [100/129], Loss: 0.4401\n",
            "Epoch [5/10], Step [120/129], Loss: 0.3412\n",
            "Epoch [6/10], Step [20/129], Loss: 0.5285\n",
            "Epoch [6/10], Step [40/129], Loss: 0.2419\n",
            "Epoch [6/10], Step [60/129], Loss: 0.4278\n",
            "Epoch [6/10], Step [80/129], Loss: 0.4761\n",
            "Epoch [6/10], Step [100/129], Loss: 0.3670\n",
            "Epoch [6/10], Step [120/129], Loss: 0.6106\n",
            "Epoch [7/10], Step [20/129], Loss: 0.4591\n",
            "Epoch [7/10], Step [40/129], Loss: 0.3541\n",
            "Epoch [7/10], Step [60/129], Loss: 0.3170\n",
            "Epoch [7/10], Step [80/129], Loss: 0.2203\n",
            "Epoch [7/10], Step [100/129], Loss: 0.3058\n",
            "Epoch [7/10], Step [120/129], Loss: 0.3259\n",
            "Epoch [8/10], Step [20/129], Loss: 0.1040\n",
            "Epoch [8/10], Step [40/129], Loss: 0.2665\n",
            "Epoch [8/10], Step [60/129], Loss: 0.2205\n",
            "Epoch [8/10], Step [80/129], Loss: 0.2146\n",
            "Epoch [8/10], Step [100/129], Loss: 0.2021\n",
            "Epoch [8/10], Step [120/129], Loss: 0.3957\n",
            "Epoch [9/10], Step [20/129], Loss: 0.3121\n",
            "Epoch [9/10], Step [40/129], Loss: 0.2073\n",
            "Epoch [9/10], Step [60/129], Loss: 0.1032\n",
            "Epoch [9/10], Step [80/129], Loss: 0.1733\n",
            "Epoch [9/10], Step [100/129], Loss: 0.3607\n",
            "Epoch [9/10], Step [120/129], Loss: 0.3254\n",
            "Epoch [10/10], Step [20/129], Loss: 0.1668\n",
            "Epoch [10/10], Step [40/129], Loss: 0.1198\n",
            "Epoch [10/10], Step [60/129], Loss: 0.1852\n",
            "Epoch [10/10], Step [80/129], Loss: 0.2772\n",
            "Epoch [10/10], Step [100/129], Loss: 0.1999\n",
            "Epoch [10/10], Step [120/129], Loss: 0.1683\n",
            "Training completed in 1055.15 seconds\n",
            "Accuracy: 66.24575036425449%\n"
          ]
        }
      ],
      "source": [
        "# Main execution block\n",
        "def main():\n",
        "    device = torch.device(\"cuda\" if torch.cuda.is_available() else \"cpu\")\n",
        "    train_loader, test_loader = load_data('/content/drive/My Drive/JPEGImages', batch_size=64, num_workers=4)\n",
        "    model = AnimalClassifier().to(device)\n",
        "    optimizer = optim.Adam(model.parameters(), lr=0.001)\n",
        "    criterion = nn.CrossEntropyLoss()\n",
        "    train_model(model, train_loader, optimizer, criterion, device, epochs=10)\n",
        "    evaluate_model(model, test_loader, device)\n",
        "\n",
        "if __name__ == \"__main__\":\n",
        "    main()"
      ]
    }
  ],
  "metadata": {
    "accelerator": "GPU",
    "colab": {
      "gpuType": "L4",
      "provenance": []
    },
    "kernelspec": {
      "display_name": "Python 3",
      "name": "python3"
    },
    "language_info": {
      "name": "python"
    }
  },
  "nbformat": 4,
  "nbformat_minor": 0
}
