{
  "cells": [
    {
      "cell_type": "code",
      "execution_count": 1,
      "metadata": {
        "colab": {
          "base_uri": "https://localhost:8080/"
        },
        "id": "RZjsYRh2cJHE",
        "outputId": "0a80ba4f-ad16-4880-d1cc-e80c97f12289"
      },
      "outputs": [
        {
          "name": "stdout",
          "output_type": "stream",
          "text": [
            "Mounted at /content/drive\n"
          ]
        }
      ],
      "source": [
        "from google.colab import drive\n",
        "drive.mount('/content/drive')"
      ]
    },
    {
      "cell_type": "code",
      "execution_count": 2,
      "metadata": {
        "id": "QHvySzbHMhL-"
      },
      "outputs": [],
      "source": [
        "import torch\n",
        "import torchvision\n",
        "import torchvision.transforms as transforms\n",
        "from torch.utils.data import DataLoader, random_split\n",
        "from torchvision import datasets, models\n",
        "import torch.nn as nn\n",
        "import torch.optim as optim\n",
        "import torch.cuda.amp as amp\n",
        "import time"
      ]
    },
    {
      "cell_type": "code",
      "execution_count": 3,
      "metadata": {
        "id": "OjhiR9MCMiI7"
      },
      "outputs": [],
      "source": [
        "# Set device\n",
        "device = torch.device(\"cuda\" if torch.cuda.is_available() else \"cpu\")\n",
        "\n",
        "# Parameters\n",
        "num_classes = 50\n",
        "batch_size = 64  # Increased batch size\n",
        "num_epochs = 10\n",
        "learning_rate = 0.001\n",
        "num_workers = 8\n",
        "train_split = 0.8  # 80% of data for training\n",
        "\n",
        "# Data preprocessing\n",
        "transform = transforms.Compose([\n",
        "    transforms.Resize((224, 224)),\n",
        "    transforms.RandomHorizontalFlip(),\n",
        "    transforms.ToTensor(),\n",
        "    transforms.Normalize(mean=[0.485, 0.456, 0.406], std=[0.229, 0.224, 0.225]),\n",
        "])\n",
        "\n",
        "# Load data\n",
        "full_dataset = datasets.ImageFolder(root='/content/drive/MyDrive/JPEGImages', transform=transform)\n",
        "\n",
        "# Split data into train and test sets\n",
        "train_size = int(train_split * len(full_dataset))\n",
        "test_size = len(full_dataset) - train_size\n",
        "train_dataset, test_dataset = random_split(full_dataset, [train_size, test_size])\n",
        "\n",
        "train_loader = DataLoader(dataset=train_dataset, batch_size=batch_size, shuffle=True, num_workers=num_workers, pin_memory=True)\n",
        "test_loader = DataLoader(dataset=test_dataset, batch_size=batch_size, shuffle=False, num_workers=num_workers, pin_memory=True)\n",
        "\n"
      ]
    },
    {
      "cell_type": "code",
      "execution_count": 4,
      "metadata": {
        "colab": {
          "base_uri": "https://localhost:8080/"
        },
        "id": "HPRAvNWo7k_G",
        "outputId": "683888f5-507f-4788-b8ff-08f314702a42"
      },
      "outputs": [
        {
          "name": "stderr",
          "output_type": "stream",
          "text": [
            "/usr/local/lib/python3.10/dist-packages/torchvision/models/_utils.py:208: UserWarning: The parameter 'pretrained' is deprecated since 0.13 and may be removed in the future, please use 'weights' instead.\n",
            "  warnings.warn(\n",
            "/usr/local/lib/python3.10/dist-packages/torchvision/models/_utils.py:223: UserWarning: Arguments other than a weight enum or `None` for 'weights' are deprecated since 0.13 and may be removed in the future. The current behavior is equivalent to passing `weights=ResNet50_Weights.IMAGENET1K_V1`. You can also use `weights=ResNet50_Weights.DEFAULT` to get the most up-to-date weights.\n",
            "  warnings.warn(msg)\n",
            "Downloading: \"https://download.pytorch.org/models/resnet50-0676ba61.pth\" to /root/.cache/torch/hub/checkpoints/resnet50-0676ba61.pth\n",
            "100%|██████████| 97.8M/97.8M [00:00<00:00, 169MB/s]\n"
          ]
        }
      ],
      "source": [
        "# Model\n",
        "model = models.resnet50(pretrained=True)\n",
        "for param in model.parameters():\n",
        "    param.requires_grad = False\n",
        "\n",
        "# Replace the last layer\n",
        "model.fc = nn.Linear(model.fc.in_features, num_classes)\n",
        "model = model.to(device)\n",
        "\n",
        "# Loss and optimizer\n",
        "criterion = nn.CrossEntropyLoss()\n",
        "optimizer = optim.Adam(model.fc.parameters(), lr=learning_rate)\n",
        "scheduler = optim.lr_scheduler.StepLR(optimizer, step_size=7, gamma=0.1)  # Learning rate scheduler\n",
        "\n",
        "# Initialize gradient scaler for mixed precision\n",
        "scaler = amp.GradScaler()\n"
      ]
    },
    {
      "cell_type": "code",
      "execution_count": 8,
      "metadata": {
        "id": "JdmAyH8MMthy"
      },
      "outputs": [],
      "source": [
        "# Train the model\n",
        "def train_model():\n",
        "    model.train()\n",
        "    start_time = time.time()\n",
        "    for epoch in range(num_epochs):\n",
        "        for i, (images, labels) in enumerate(train_loader):\n",
        "            images = images.to(device)\n",
        "            labels = labels.to(device)\n",
        "\n",
        "            # Forward pass\n",
        "            with amp.autocast():\n",
        "                outputs = model(images)\n",
        "                loss = criterion(outputs, labels)\n",
        "\n",
        "            # Backward and optimize\n",
        "            optimizer.zero_grad()\n",
        "            scaler.scale(loss).backward()\n",
        "            scaler.step(optimizer)\n",
        "            scaler.update()\n",
        "\n",
        "            if (i+1) % 20 == 0:\n",
        "                print(f'Epoch [{epoch+1}/{num_epochs}], Step [{i+1}/{len(train_loader)}], Loss: {loss.item():.4f}')\n",
        "\n",
        "        scheduler.step()  # Update learning rate\n",
        "    print(f'Training time: {time.time() - start_time:.2f} seconds')\n",
        "\n",
        "\n",
        "\n"
      ]
    },
    {
      "cell_type": "code",
      "execution_count": 9,
      "metadata": {
        "id": "WT9Y3M-yMyQz"
      },
      "outputs": [],
      "source": [
        "# Evaluate the model\n",
        "def evaluate_model():\n",
        "    model.eval()\n",
        "    with torch.no_grad(), amp.autocast():\n",
        "        correct = 0\n",
        "        total = 0\n",
        "        for images, labels in test_loader:\n",
        "            images = images.to(device)\n",
        "            labels = labels.to(device)\n",
        "            outputs = model(images)\n",
        "            _, predicted = torch.max(outputs.data, 1)\n",
        "            total += labels.size(0)\n",
        "            correct += (predicted == labels).sum().item()\n",
        "        print(f'Accuracy of the model on test images: {100 * correct / total:.2f}%')\n",
        "\n"
      ]
    },
    {
      "cell_type": "code",
      "execution_count": 10,
      "metadata": {
        "colab": {
          "base_uri": "https://localhost:8080/"
        },
        "id": "n8gfIlXCN_5C",
        "outputId": "d9f25106-6ba7-4788-ebd3-a72b669b0bbe"
      },
      "outputs": [
        {
          "name": "stdout",
          "output_type": "stream",
          "text": [
            "Epoch [1/10], Step [20/129], Loss: 0.2453\n",
            "Epoch [1/10], Step [40/129], Loss: 0.1680\n",
            "Epoch [1/10], Step [60/129], Loss: 0.2478\n",
            "Epoch [1/10], Step [80/129], Loss: 0.2665\n",
            "Epoch [1/10], Step [100/129], Loss: 0.2005\n",
            "Epoch [1/10], Step [120/129], Loss: 0.1839\n",
            "Epoch [2/10], Step [20/129], Loss: 0.1938\n",
            "Epoch [2/10], Step [40/129], Loss: 0.1777\n",
            "Epoch [2/10], Step [60/129], Loss: 0.0895\n",
            "Epoch [2/10], Step [80/129], Loss: 0.1658\n",
            "Epoch [2/10], Step [100/129], Loss: 0.1734\n",
            "Epoch [2/10], Step [120/129], Loss: 0.2559\n",
            "Epoch [3/10], Step [20/129], Loss: 0.1568\n",
            "Epoch [3/10], Step [40/129], Loss: 0.1153\n",
            "Epoch [3/10], Step [60/129], Loss: 0.2181\n",
            "Epoch [3/10], Step [80/129], Loss: 0.0975\n",
            "Epoch [3/10], Step [100/129], Loss: 0.1340\n",
            "Epoch [3/10], Step [120/129], Loss: 0.1119\n",
            "Epoch [4/10], Step [20/129], Loss: 0.1199\n",
            "Epoch [4/10], Step [40/129], Loss: 0.1242\n",
            "Epoch [4/10], Step [60/129], Loss: 0.2128\n",
            "Epoch [4/10], Step [80/129], Loss: 0.1917\n",
            "Epoch [4/10], Step [100/129], Loss: 0.2520\n",
            "Epoch [4/10], Step [120/129], Loss: 0.1760\n",
            "Epoch [5/10], Step [20/129], Loss: 0.1025\n",
            "Epoch [5/10], Step [40/129], Loss: 0.1549\n",
            "Epoch [5/10], Step [60/129], Loss: 0.0696\n",
            "Epoch [5/10], Step [80/129], Loss: 0.0834\n",
            "Epoch [5/10], Step [100/129], Loss: 0.1743\n",
            "Epoch [5/10], Step [120/129], Loss: 0.0598\n",
            "Epoch [6/10], Step [20/129], Loss: 0.0642\n",
            "Epoch [6/10], Step [40/129], Loss: 0.0907\n",
            "Epoch [6/10], Step [60/129], Loss: 0.1841\n",
            "Epoch [6/10], Step [80/129], Loss: 0.1030\n",
            "Epoch [6/10], Step [100/129], Loss: 0.1078\n",
            "Epoch [6/10], Step [120/129], Loss: 0.0827\n",
            "Epoch [7/10], Step [20/129], Loss: 0.1109\n",
            "Epoch [7/10], Step [40/129], Loss: 0.0776\n",
            "Epoch [7/10], Step [60/129], Loss: 0.0787\n",
            "Epoch [7/10], Step [80/129], Loss: 0.0622\n",
            "Epoch [7/10], Step [100/129], Loss: 0.0726\n",
            "Epoch [7/10], Step [120/129], Loss: 0.0541\n",
            "Epoch [8/10], Step [20/129], Loss: 0.1140\n",
            "Epoch [8/10], Step [40/129], Loss: 0.0496\n",
            "Epoch [8/10], Step [60/129], Loss: 0.0786\n",
            "Epoch [8/10], Step [80/129], Loss: 0.1182\n",
            "Epoch [8/10], Step [100/129], Loss: 0.2083\n",
            "Epoch [8/10], Step [120/129], Loss: 0.1486\n",
            "Epoch [9/10], Step [20/129], Loss: 0.1988\n",
            "Epoch [9/10], Step [40/129], Loss: 0.1033\n",
            "Epoch [9/10], Step [60/129], Loss: 0.1831\n",
            "Epoch [9/10], Step [80/129], Loss: 0.1268\n",
            "Epoch [9/10], Step [100/129], Loss: 0.0791\n",
            "Epoch [9/10], Step [120/129], Loss: 0.0821\n",
            "Epoch [10/10], Step [20/129], Loss: 0.0928\n",
            "Epoch [10/10], Step [40/129], Loss: 0.1180\n",
            "Epoch [10/10], Step [60/129], Loss: 0.0875\n",
            "Epoch [10/10], Step [80/129], Loss: 0.1435\n",
            "Epoch [10/10], Step [100/129], Loss: 0.0650\n",
            "Epoch [10/10], Step [120/129], Loss: 0.0480\n",
            "Training time: 273.15 seconds\n",
            "Accuracy of the model on test images: 90.43%\n"
          ]
        }
      ],
      "source": [
        "if __name__ == \"__main__\":\n",
        "    train_model()\n",
        "    evaluate_model()"
      ]
    }
  ],
  "metadata": {
    "accelerator": "GPU",
    "colab": {
      "gpuType": "L4",
      "provenance": []
    },
    "kernelspec": {
      "display_name": "Python 3",
      "name": "python3"
    },
    "language_info": {
      "name": "python"
    }
  },
  "nbformat": 4,
  "nbformat_minor": 0
}
